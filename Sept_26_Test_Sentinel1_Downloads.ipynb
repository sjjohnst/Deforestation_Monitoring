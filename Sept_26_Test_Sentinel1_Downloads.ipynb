{
 "cells": [
  {
   "cell_type": "code",
   "execution_count": 3,
   "id": "23ccbdc2-f025-4adf-8223-38ee35b431f9",
   "metadata": {},
   "outputs": [],
   "source": [
    "from sentinelsat import SentinelAPI, read_geojson, geojson_to_wkt, make_path_filter\n",
    "from datetime import date\n",
    "import geopandas as gpd"
   ]
  },
  {
   "cell_type": "code",
   "execution_count": 4,
   "id": "2b1cc3dc-f127-48d2-92f1-7696235f7442",
   "metadata": {},
   "outputs": [],
   "source": [
    "# connect to the API\n",
    "api = SentinelAPI('sjjohnst', 'Atmosphere1806.', 'https://apihub.copernicus.eu/apihub')"
   ]
  },
  {
   "cell_type": "code",
   "execution_count": 5,
   "id": "b1409d25-04b0-4c18-a5b7-13243b459a1a",
   "metadata": {},
   "outputs": [],
   "source": [
    "# Define a small geojson polygon for testing downloading data\n",
    "footprint = geojson_to_wkt(read_geojson('sample_area.geojson'))"
   ]
  },
  {
   "cell_type": "code",
   "execution_count": 6,
   "id": "4dff0c06-8278-49e9-9ae3-126a1ea0e359",
   "metadata": {},
   "outputs": [],
   "source": [
    "products = api.query(footprint, \n",
    "                     date = (date(2022, 1, 1), date(2022, 2, 1)),\n",
    "                     platformname = 'Sentinel-1',\n",
    "                     producttype='SLC')"
   ]
  },
  {
   "cell_type": "code",
   "execution_count": 7,
   "id": "13aa26bb-a994-4709-851b-489518835d91",
   "metadata": {},
   "outputs": [
    {
     "data": {
      "text/plain": [
       "4"
      ]
     },
     "execution_count": 7,
     "metadata": {},
     "output_type": "execute_result"
    }
   ],
   "source": [
    "len(products)"
   ]
  },
  {
   "cell_type": "code",
   "execution_count": 8,
   "id": "2f60810b-80a3-4c4c-b31e-94c9c8e059f7",
   "metadata": {},
   "outputs": [],
   "source": [
    "products_df = api.to_dataframe(products)"
   ]
  },
  {
   "cell_type": "code",
   "execution_count": 9,
   "id": "773fad75-830e-4da0-972f-99d24ce4abfe",
   "metadata": {},
   "outputs": [
    {
     "data": {
      "text/html": [
       "<div>\n",
       "<style scoped>\n",
       "    .dataframe tbody tr th:only-of-type {\n",
       "        vertical-align: middle;\n",
       "    }\n",
       "\n",
       "    .dataframe tbody tr th {\n",
       "        vertical-align: top;\n",
       "    }\n",
       "\n",
       "    .dataframe thead th {\n",
       "        text-align: right;\n",
       "    }\n",
       "</style>\n",
       "<table border=\"1\" class=\"dataframe\">\n",
       "  <thead>\n",
       "    <tr style=\"text-align: right;\">\n",
       "      <th></th>\n",
       "      <th>title</th>\n",
       "      <th>link</th>\n",
       "      <th>link_alternative</th>\n",
       "      <th>link_icon</th>\n",
       "      <th>summary</th>\n",
       "      <th>ondemand</th>\n",
       "      <th>beginposition</th>\n",
       "      <th>endposition</th>\n",
       "      <th>ingestiondate</th>\n",
       "      <th>missiondatatakeid</th>\n",
       "      <th>...</th>\n",
       "      <th>platformname</th>\n",
       "      <th>platformidentifier</th>\n",
       "      <th>instrumentname</th>\n",
       "      <th>instrumentshortname</th>\n",
       "      <th>productclass</th>\n",
       "      <th>polarisationmode</th>\n",
       "      <th>acquisitiontype</th>\n",
       "      <th>gmlfootprint</th>\n",
       "      <th>footprint</th>\n",
       "      <th>uuid</th>\n",
       "    </tr>\n",
       "  </thead>\n",
       "  <tbody>\n",
       "    <tr>\n",
       "      <th>a02b8578-c7df-468a-a6cf-cf58f41aadce</th>\n",
       "      <td>S1A_IW_SLC__1SDV_20220123T092333_20220123T0923...</td>\n",
       "      <td>https://apihub.copernicus.eu/apihub/odata/v1/P...</td>\n",
       "      <td>https://apihub.copernicus.eu/apihub/odata/v1/P...</td>\n",
       "      <td>https://apihub.copernicus.eu/apihub/odata/v1/P...</td>\n",
       "      <td>Date: 2022-01-23T09:23:33.021Z, Instrument: SA...</td>\n",
       "      <td>false</td>\n",
       "      <td>2022-01-23 09:23:33.021</td>\n",
       "      <td>2022-01-23 09:23:59.978</td>\n",
       "      <td>2022-01-23 12:27:36.890</td>\n",
       "      <td>324173</td>\n",
       "      <td>...</td>\n",
       "      <td>Sentinel-1</td>\n",
       "      <td>2014-016A</td>\n",
       "      <td>Synthetic Aperture Radar (C-band)</td>\n",
       "      <td>SAR-C SAR</td>\n",
       "      <td>S</td>\n",
       "      <td>VV VH</td>\n",
       "      <td>NOMINAL</td>\n",
       "      <td>&lt;gml:Polygon srsName=\"http://www.opengis.net/g...</td>\n",
       "      <td>MULTIPOLYGON (((-54.863754 -5.864585, -54.5129...</td>\n",
       "      <td>a02b8578-c7df-468a-a6cf-cf58f41aadce</td>\n",
       "    </tr>\n",
       "    <tr>\n",
       "      <th>371d8120-3da0-4c85-83c5-4ffd6ba3bdd5</th>\n",
       "      <td>S1A_IW_SLC__1SDV_20220123T092308_20220123T0923...</td>\n",
       "      <td>https://apihub.copernicus.eu/apihub/odata/v1/P...</td>\n",
       "      <td>https://apihub.copernicus.eu/apihub/odata/v1/P...</td>\n",
       "      <td>https://apihub.copernicus.eu/apihub/odata/v1/P...</td>\n",
       "      <td>Date: 2022-01-23T09:23:08.196Z, Instrument: SA...</td>\n",
       "      <td>false</td>\n",
       "      <td>2022-01-23 09:23:08.196</td>\n",
       "      <td>2022-01-23 09:23:35.153</td>\n",
       "      <td>2022-01-23 12:15:42.241</td>\n",
       "      <td>324173</td>\n",
       "      <td>...</td>\n",
       "      <td>Sentinel-1</td>\n",
       "      <td>2014-016A</td>\n",
       "      <td>Synthetic Aperture Radar (C-band)</td>\n",
       "      <td>SAR-C SAR</td>\n",
       "      <td>S</td>\n",
       "      <td>VV VH</td>\n",
       "      <td>NOMINAL</td>\n",
       "      <td>&lt;gml:Polygon srsName=\"http://www.opengis.net/g...</td>\n",
       "      <td>MULTIPOLYGON (((-54.540108 -4.364088, -54.1922...</td>\n",
       "      <td>371d8120-3da0-4c85-83c5-4ffd6ba3bdd5</td>\n",
       "    </tr>\n",
       "    <tr>\n",
       "      <th>ff87f80a-1005-4a64-b6f6-9ffa4c5a7d00</th>\n",
       "      <td>S1A_IW_SLC__1SDV_20220111T092333_20220111T0924...</td>\n",
       "      <td>https://apihub.copernicus.eu/apihub/odata/v1/P...</td>\n",
       "      <td>https://apihub.copernicus.eu/apihub/odata/v1/P...</td>\n",
       "      <td>https://apihub.copernicus.eu/apihub/odata/v1/P...</td>\n",
       "      <td>Date: 2022-01-11T09:23:33.684Z, Instrument: SA...</td>\n",
       "      <td>false</td>\n",
       "      <td>2022-01-11 09:23:33.684</td>\n",
       "      <td>2022-01-11 09:24:00.635</td>\n",
       "      <td>2022-01-11 16:21:39.646</td>\n",
       "      <td>322694</td>\n",
       "      <td>...</td>\n",
       "      <td>Sentinel-1</td>\n",
       "      <td>2014-016A</td>\n",
       "      <td>Synthetic Aperture Radar (C-band)</td>\n",
       "      <td>SAR-C SAR</td>\n",
       "      <td>S</td>\n",
       "      <td>VV VH</td>\n",
       "      <td>NOMINAL</td>\n",
       "      <td>&lt;gml:Polygon srsName=\"http://www.opengis.net/g...</td>\n",
       "      <td>MULTIPOLYGON (((-54.864052 -5.864449, -54.5132...</td>\n",
       "      <td>ff87f80a-1005-4a64-b6f6-9ffa4c5a7d00</td>\n",
       "    </tr>\n",
       "    <tr>\n",
       "      <th>f657027f-936c-4191-b070-dcecd1f52257</th>\n",
       "      <td>S1A_IW_SLC__1SDV_20220111T092308_20220111T0923...</td>\n",
       "      <td>https://apihub.copernicus.eu/apihub/odata/v1/P...</td>\n",
       "      <td>https://apihub.copernicus.eu/apihub/odata/v1/P...</td>\n",
       "      <td>https://apihub.copernicus.eu/apihub/odata/v1/P...</td>\n",
       "      <td>Date: 2022-01-11T09:23:08.857Z, Instrument: SA...</td>\n",
       "      <td>false</td>\n",
       "      <td>2022-01-11 09:23:08.857</td>\n",
       "      <td>2022-01-11 09:23:35.816</td>\n",
       "      <td>2022-01-11 15:30:41.031</td>\n",
       "      <td>322694</td>\n",
       "      <td>...</td>\n",
       "      <td>Sentinel-1</td>\n",
       "      <td>2014-016A</td>\n",
       "      <td>Synthetic Aperture Radar (C-band)</td>\n",
       "      <td>SAR-C SAR</td>\n",
       "      <td>S</td>\n",
       "      <td>VV VH</td>\n",
       "      <td>NOMINAL</td>\n",
       "      <td>&lt;gml:Polygon srsName=\"http://www.opengis.net/g...</td>\n",
       "      <td>MULTIPOLYGON (((-54.54047 -4.364325, -54.19260...</td>\n",
       "      <td>f657027f-936c-4191-b070-dcecd1f52257</td>\n",
       "    </tr>\n",
       "  </tbody>\n",
       "</table>\n",
       "<p>4 rows × 35 columns</p>\n",
       "</div>"
      ],
      "text/plain": [
       "                                                                                  title  \\\n",
       "a02b8578-c7df-468a-a6cf-cf58f41aadce  S1A_IW_SLC__1SDV_20220123T092333_20220123T0923...   \n",
       "371d8120-3da0-4c85-83c5-4ffd6ba3bdd5  S1A_IW_SLC__1SDV_20220123T092308_20220123T0923...   \n",
       "ff87f80a-1005-4a64-b6f6-9ffa4c5a7d00  S1A_IW_SLC__1SDV_20220111T092333_20220111T0924...   \n",
       "f657027f-936c-4191-b070-dcecd1f52257  S1A_IW_SLC__1SDV_20220111T092308_20220111T0923...   \n",
       "\n",
       "                                                                                   link  \\\n",
       "a02b8578-c7df-468a-a6cf-cf58f41aadce  https://apihub.copernicus.eu/apihub/odata/v1/P...   \n",
       "371d8120-3da0-4c85-83c5-4ffd6ba3bdd5  https://apihub.copernicus.eu/apihub/odata/v1/P...   \n",
       "ff87f80a-1005-4a64-b6f6-9ffa4c5a7d00  https://apihub.copernicus.eu/apihub/odata/v1/P...   \n",
       "f657027f-936c-4191-b070-dcecd1f52257  https://apihub.copernicus.eu/apihub/odata/v1/P...   \n",
       "\n",
       "                                                                       link_alternative  \\\n",
       "a02b8578-c7df-468a-a6cf-cf58f41aadce  https://apihub.copernicus.eu/apihub/odata/v1/P...   \n",
       "371d8120-3da0-4c85-83c5-4ffd6ba3bdd5  https://apihub.copernicus.eu/apihub/odata/v1/P...   \n",
       "ff87f80a-1005-4a64-b6f6-9ffa4c5a7d00  https://apihub.copernicus.eu/apihub/odata/v1/P...   \n",
       "f657027f-936c-4191-b070-dcecd1f52257  https://apihub.copernicus.eu/apihub/odata/v1/P...   \n",
       "\n",
       "                                                                              link_icon  \\\n",
       "a02b8578-c7df-468a-a6cf-cf58f41aadce  https://apihub.copernicus.eu/apihub/odata/v1/P...   \n",
       "371d8120-3da0-4c85-83c5-4ffd6ba3bdd5  https://apihub.copernicus.eu/apihub/odata/v1/P...   \n",
       "ff87f80a-1005-4a64-b6f6-9ffa4c5a7d00  https://apihub.copernicus.eu/apihub/odata/v1/P...   \n",
       "f657027f-936c-4191-b070-dcecd1f52257  https://apihub.copernicus.eu/apihub/odata/v1/P...   \n",
       "\n",
       "                                                                                summary  \\\n",
       "a02b8578-c7df-468a-a6cf-cf58f41aadce  Date: 2022-01-23T09:23:33.021Z, Instrument: SA...   \n",
       "371d8120-3da0-4c85-83c5-4ffd6ba3bdd5  Date: 2022-01-23T09:23:08.196Z, Instrument: SA...   \n",
       "ff87f80a-1005-4a64-b6f6-9ffa4c5a7d00  Date: 2022-01-11T09:23:33.684Z, Instrument: SA...   \n",
       "f657027f-936c-4191-b070-dcecd1f52257  Date: 2022-01-11T09:23:08.857Z, Instrument: SA...   \n",
       "\n",
       "                                     ondemand           beginposition  \\\n",
       "a02b8578-c7df-468a-a6cf-cf58f41aadce    false 2022-01-23 09:23:33.021   \n",
       "371d8120-3da0-4c85-83c5-4ffd6ba3bdd5    false 2022-01-23 09:23:08.196   \n",
       "ff87f80a-1005-4a64-b6f6-9ffa4c5a7d00    false 2022-01-11 09:23:33.684   \n",
       "f657027f-936c-4191-b070-dcecd1f52257    false 2022-01-11 09:23:08.857   \n",
       "\n",
       "                                                 endposition  \\\n",
       "a02b8578-c7df-468a-a6cf-cf58f41aadce 2022-01-23 09:23:59.978   \n",
       "371d8120-3da0-4c85-83c5-4ffd6ba3bdd5 2022-01-23 09:23:35.153   \n",
       "ff87f80a-1005-4a64-b6f6-9ffa4c5a7d00 2022-01-11 09:24:00.635   \n",
       "f657027f-936c-4191-b070-dcecd1f52257 2022-01-11 09:23:35.816   \n",
       "\n",
       "                                               ingestiondate  \\\n",
       "a02b8578-c7df-468a-a6cf-cf58f41aadce 2022-01-23 12:27:36.890   \n",
       "371d8120-3da0-4c85-83c5-4ffd6ba3bdd5 2022-01-23 12:15:42.241   \n",
       "ff87f80a-1005-4a64-b6f6-9ffa4c5a7d00 2022-01-11 16:21:39.646   \n",
       "f657027f-936c-4191-b070-dcecd1f52257 2022-01-11 15:30:41.031   \n",
       "\n",
       "                                      missiondatatakeid  ...  platformname  \\\n",
       "a02b8578-c7df-468a-a6cf-cf58f41aadce             324173  ...    Sentinel-1   \n",
       "371d8120-3da0-4c85-83c5-4ffd6ba3bdd5             324173  ...    Sentinel-1   \n",
       "ff87f80a-1005-4a64-b6f6-9ffa4c5a7d00             322694  ...    Sentinel-1   \n",
       "f657027f-936c-4191-b070-dcecd1f52257             322694  ...    Sentinel-1   \n",
       "\n",
       "                                      platformidentifier  \\\n",
       "a02b8578-c7df-468a-a6cf-cf58f41aadce           2014-016A   \n",
       "371d8120-3da0-4c85-83c5-4ffd6ba3bdd5           2014-016A   \n",
       "ff87f80a-1005-4a64-b6f6-9ffa4c5a7d00           2014-016A   \n",
       "f657027f-936c-4191-b070-dcecd1f52257           2014-016A   \n",
       "\n",
       "                                                         instrumentname  \\\n",
       "a02b8578-c7df-468a-a6cf-cf58f41aadce  Synthetic Aperture Radar (C-band)   \n",
       "371d8120-3da0-4c85-83c5-4ffd6ba3bdd5  Synthetic Aperture Radar (C-band)   \n",
       "ff87f80a-1005-4a64-b6f6-9ffa4c5a7d00  Synthetic Aperture Radar (C-band)   \n",
       "f657027f-936c-4191-b070-dcecd1f52257  Synthetic Aperture Radar (C-band)   \n",
       "\n",
       "                                      instrumentshortname  productclass  \\\n",
       "a02b8578-c7df-468a-a6cf-cf58f41aadce            SAR-C SAR             S   \n",
       "371d8120-3da0-4c85-83c5-4ffd6ba3bdd5            SAR-C SAR             S   \n",
       "ff87f80a-1005-4a64-b6f6-9ffa4c5a7d00            SAR-C SAR             S   \n",
       "f657027f-936c-4191-b070-dcecd1f52257            SAR-C SAR             S   \n",
       "\n",
       "                                     polarisationmode acquisitiontype  \\\n",
       "a02b8578-c7df-468a-a6cf-cf58f41aadce            VV VH         NOMINAL   \n",
       "371d8120-3da0-4c85-83c5-4ffd6ba3bdd5            VV VH         NOMINAL   \n",
       "ff87f80a-1005-4a64-b6f6-9ffa4c5a7d00            VV VH         NOMINAL   \n",
       "f657027f-936c-4191-b070-dcecd1f52257            VV VH         NOMINAL   \n",
       "\n",
       "                                                                           gmlfootprint  \\\n",
       "a02b8578-c7df-468a-a6cf-cf58f41aadce  <gml:Polygon srsName=\"http://www.opengis.net/g...   \n",
       "371d8120-3da0-4c85-83c5-4ffd6ba3bdd5  <gml:Polygon srsName=\"http://www.opengis.net/g...   \n",
       "ff87f80a-1005-4a64-b6f6-9ffa4c5a7d00  <gml:Polygon srsName=\"http://www.opengis.net/g...   \n",
       "f657027f-936c-4191-b070-dcecd1f52257  <gml:Polygon srsName=\"http://www.opengis.net/g...   \n",
       "\n",
       "                                                                              footprint  \\\n",
       "a02b8578-c7df-468a-a6cf-cf58f41aadce  MULTIPOLYGON (((-54.863754 -5.864585, -54.5129...   \n",
       "371d8120-3da0-4c85-83c5-4ffd6ba3bdd5  MULTIPOLYGON (((-54.540108 -4.364088, -54.1922...   \n",
       "ff87f80a-1005-4a64-b6f6-9ffa4c5a7d00  MULTIPOLYGON (((-54.864052 -5.864449, -54.5132...   \n",
       "f657027f-936c-4191-b070-dcecd1f52257  MULTIPOLYGON (((-54.54047 -4.364325, -54.19260...   \n",
       "\n",
       "                                                                      uuid  \n",
       "a02b8578-c7df-468a-a6cf-cf58f41aadce  a02b8578-c7df-468a-a6cf-cf58f41aadce  \n",
       "371d8120-3da0-4c85-83c5-4ffd6ba3bdd5  371d8120-3da0-4c85-83c5-4ffd6ba3bdd5  \n",
       "ff87f80a-1005-4a64-b6f6-9ffa4c5a7d00  ff87f80a-1005-4a64-b6f6-9ffa4c5a7d00  \n",
       "f657027f-936c-4191-b070-dcecd1f52257  f657027f-936c-4191-b070-dcecd1f52257  \n",
       "\n",
       "[4 rows x 35 columns]"
      ]
     },
     "execution_count": 9,
     "metadata": {},
     "output_type": "execute_result"
    }
   ],
   "source": [
    "products_df"
   ]
  },
  {
   "cell_type": "code",
   "execution_count": 10,
   "id": "063823f4-6f24-48d6-ba26-59a121bb066d",
   "metadata": {},
   "outputs": [],
   "source": [
    "\"\"\"\n",
    "Path filter can be used to only download certain parts of the product.\n",
    "Here I've written a filter that will only download measurements of IW sub-swath (will ignore all the other metadata)\n",
    "\"\"\"\n",
    "\n",
    "path_filter = make_path_filter(\"*s1a-iw[123]-slc-*.tiff\")"
   ]
  },
  {
   "cell_type": "code",
   "execution_count": null,
   "id": "82d1f212-e47b-40a8-b442-666222c3d83e",
   "metadata": {},
   "outputs": [
    {
     "data": {
      "application/vnd.jupyter.widget-view+json": {
       "model_id": "13b591a4d406404e8aa3949f03c80938",
       "version_major": 2,
       "version_minor": 0
      },
      "text/plain": [
       "Downloading products:   0%|          | 0/4 [00:00<?, ?product/s]"
      ]
     },
     "metadata": {},
     "output_type": "display_data"
    },
    {
     "data": {
      "application/vnd.jupyter.widget-view+json": {
       "model_id": "f3577cc3af70456db16f470476e8059b",
       "version_major": 2,
       "version_minor": 0
      },
      "text/plain": [
       "LTA retrieval:   0%|          | 0/4 [00:00<?, ?product/s]"
      ]
     },
     "metadata": {},
     "output_type": "display_data"
    }
   ],
   "source": [
    "api.download_all(products, nodefilter=path_filter)"
   ]
  },
  {
   "cell_type": "code",
   "execution_count": null,
   "id": "2832d835-dcc3-455c-bb1c-258c7ccfdcfd",
   "metadata": {},
   "outputs": [],
   "source": []
  }
 ],
 "metadata": {
  "kernelspec": {
   "display_name": "Python 3 (ipykernel)",
   "language": "python",
   "name": "python3"
  },
  "language_info": {
   "codemirror_mode": {
    "name": "ipython",
    "version": 3
   },
   "file_extension": ".py",
   "mimetype": "text/x-python",
   "name": "python",
   "nbconvert_exporter": "python",
   "pygments_lexer": "ipython3",
   "version": "3.9.13"
  }
 },
 "nbformat": 4,
 "nbformat_minor": 5
}
