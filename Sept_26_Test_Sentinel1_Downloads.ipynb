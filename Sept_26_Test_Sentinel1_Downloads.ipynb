{
 "cells": [
  {
   "cell_type": "code",
   "execution_count": 2,
   "id": "23ccbdc2-f025-4adf-8223-38ee35b431f9",
   "metadata": {},
   "outputs": [],
   "source": [
    "from sentinelsat import SentinelAPI, read_geojson, geojson_to_wkt\n",
    "from datetime import date"
   ]
  },
  {
   "cell_type": "code",
   "execution_count": 3,
   "id": "2b1cc3dc-f127-48d2-92f1-7696235f7442",
   "metadata": {},
   "outputs": [],
   "source": [
    "# connect to the API\n",
    "api = SentinelAPI('sjjohnst', 'Atmosphere1806.', 'https://apihub.copernicus.eu/apihub')"
   ]
  },
  {
   "cell_type": "code",
   "execution_count": 12,
   "id": "b1409d25-04b0-4c18-a5b7-13243b459a1a",
   "metadata": {},
   "outputs": [],
   "source": [
    "# -54.360351562499986 -12.640338306846786,-51.284179687499986 -12.640338306846786,-51.284179687499986 -9.795677582829725,-54.360351562499986 -9.795677582829725,-54.360351562499986 -12.640338306846786\n",
    "lat_longs = [\n",
    "        (-54.360351562499986, -12.640338306846786),\n",
    "        (-51.284179687499986, -12.640338306846786),\n",
    "        (-51.284179687499986, -9.795677582829725),\n",
    "        (-54.360351562499986, -9.795677582829725),\n",
    "        (-54.360351562499986, -12.640338306846786)\n",
    "]"
   ]
  },
  {
   "cell_type": "code",
   "execution_count": 14,
   "id": "7db0dde8-f882-4f1b-9ca1-71dc5f1d9426",
   "metadata": {},
   "outputs": [
    {
     "name": "stdout",
     "output_type": "stream",
     "text": [
      "POLYGON ((-54.36035156249999 -12.64033830684679, -51.28417968749999 -12.64033830684679, -51.28417968749999 -9.795677582829725, -54.36035156249999 -9.795677582829725, -54.36035156249999 -12.64033830684679))\n"
     ]
    }
   ],
   "source": [
    "from shapely.geometry import Polygon\n",
    "polygon = Polygon(lat_longs)\n",
    "print(polygon.wkt)"
   ]
  },
  {
   "cell_type": "code",
   "execution_count": 37,
   "id": "4dff0c06-8278-49e9-9ae3-126a1ea0e359",
   "metadata": {},
   "outputs": [],
   "source": [
    "products = api.query(polygon.wkt, \n",
    "                     date = (date(2022, 9, 15), date(2022, 9, 16)),\n",
    "                     platformname = 'Sentinel-1',\n",
    "                     producttype='GRD')"
   ]
  },
  {
   "cell_type": "code",
   "execution_count": 38,
   "id": "13aa26bb-a994-4709-851b-489518835d91",
   "metadata": {},
   "outputs": [
    {
     "data": {
      "text/plain": [
       "3"
      ]
     },
     "execution_count": 38,
     "metadata": {},
     "output_type": "execute_result"
    }
   ],
   "source": [
    "len(products)"
   ]
  },
  {
   "cell_type": "code",
   "execution_count": 39,
   "id": "2f60810b-80a3-4c4c-b31e-94c9c8e059f7",
   "metadata": {},
   "outputs": [],
   "source": [
    "products_df = api.to_dataframe(products)"
   ]
  },
  {
   "cell_type": "code",
   "execution_count": 40,
   "id": "773fad75-830e-4da0-972f-99d24ce4abfe",
   "metadata": {},
   "outputs": [
    {
     "data": {
      "text/html": [
       "<div>\n",
       "<style scoped>\n",
       "    .dataframe tbody tr th:only-of-type {\n",
       "        vertical-align: middle;\n",
       "    }\n",
       "\n",
       "    .dataframe tbody tr th {\n",
       "        vertical-align: top;\n",
       "    }\n",
       "\n",
       "    .dataframe thead th {\n",
       "        text-align: right;\n",
       "    }\n",
       "</style>\n",
       "<table border=\"1\" class=\"dataframe\">\n",
       "  <thead>\n",
       "    <tr style=\"text-align: right;\">\n",
       "      <th></th>\n",
       "      <th>title</th>\n",
       "      <th>link</th>\n",
       "      <th>link_alternative</th>\n",
       "      <th>link_icon</th>\n",
       "      <th>summary</th>\n",
       "      <th>ondemand</th>\n",
       "      <th>beginposition</th>\n",
       "      <th>endposition</th>\n",
       "      <th>ingestiondate</th>\n",
       "      <th>missiondatatakeid</th>\n",
       "      <th>...</th>\n",
       "      <th>platformname</th>\n",
       "      <th>platformidentifier</th>\n",
       "      <th>instrumentname</th>\n",
       "      <th>instrumentshortname</th>\n",
       "      <th>productclass</th>\n",
       "      <th>polarisationmode</th>\n",
       "      <th>acquisitiontype</th>\n",
       "      <th>gmlfootprint</th>\n",
       "      <th>footprint</th>\n",
       "      <th>uuid</th>\n",
       "    </tr>\n",
       "  </thead>\n",
       "  <tbody>\n",
       "    <tr>\n",
       "      <th>2faa40e5-24c4-4e59-af01-2e5143d3ccf1</th>\n",
       "      <td>S1A_IW_GRDH_1SDV_20220915T091644_20220915T0917...</td>\n",
       "      <td>https://apihub.copernicus.eu/apihub/odata/v1/P...</td>\n",
       "      <td>https://apihub.copernicus.eu/apihub/odata/v1/P...</td>\n",
       "      <td>https://apihub.copernicus.eu/apihub/odata/v1/P...</td>\n",
       "      <td>Date: 2022-09-15T09:16:44.878Z, Instrument: SA...</td>\n",
       "      <td>false</td>\n",
       "      <td>2022-09-15 09:16:44.878</td>\n",
       "      <td>2022-09-15 09:17:09.877</td>\n",
       "      <td>2022-09-15 11:30:20.390</td>\n",
       "      <td>352447</td>\n",
       "      <td>...</td>\n",
       "      <td>Sentinel-1</td>\n",
       "      <td>2014-016A</td>\n",
       "      <td>Synthetic Aperture Radar (C-band)</td>\n",
       "      <td>SAR-C SAR</td>\n",
       "      <td>S</td>\n",
       "      <td>VV VH</td>\n",
       "      <td>NOMINAL</td>\n",
       "      <td>&lt;gml:Polygon srsName=\"http://www.opengis.net/g...</td>\n",
       "      <td>MULTIPOLYGON (((-53.807205 -10.371514, -53.470...</td>\n",
       "      <td>2faa40e5-24c4-4e59-af01-2e5143d3ccf1</td>\n",
       "    </tr>\n",
       "    <tr>\n",
       "      <th>37133e48-797c-48bb-be3c-9f1fe8f0b1c9</th>\n",
       "      <td>S1A_IW_GRDH_1SDV_20220915T091734_20220915T0917...</td>\n",
       "      <td>https://apihub.copernicus.eu/apihub/odata/v1/P...</td>\n",
       "      <td>https://apihub.copernicus.eu/apihub/odata/v1/P...</td>\n",
       "      <td>https://apihub.copernicus.eu/apihub/odata/v1/P...</td>\n",
       "      <td>Date: 2022-09-15T09:17:34.879Z, Instrument: SA...</td>\n",
       "      <td>false</td>\n",
       "      <td>2022-09-15 09:17:34.879</td>\n",
       "      <td>2022-09-15 09:17:59.877</td>\n",
       "      <td>2022-09-15 11:24:28.892</td>\n",
       "      <td>352447</td>\n",
       "      <td>...</td>\n",
       "      <td>Sentinel-1</td>\n",
       "      <td>2014-016A</td>\n",
       "      <td>Synthetic Aperture Radar (C-band)</td>\n",
       "      <td>SAR-C SAR</td>\n",
       "      <td>S</td>\n",
       "      <td>VV VH</td>\n",
       "      <td>NOMINAL</td>\n",
       "      <td>&lt;gml:Polygon srsName=\"http://www.opengis.net/g...</td>\n",
       "      <td>MULTIPOLYGON (((-54.491562 -13.389433, -54.146...</td>\n",
       "      <td>37133e48-797c-48bb-be3c-9f1fe8f0b1c9</td>\n",
       "    </tr>\n",
       "    <tr>\n",
       "      <th>cc892d51-e56d-487b-b3d1-4b2b1b7a837f</th>\n",
       "      <td>S1A_IW_GRDH_1SDV_20220915T091709_20220915T0917...</td>\n",
       "      <td>https://apihub.copernicus.eu/apihub/odata/v1/P...</td>\n",
       "      <td>https://apihub.copernicus.eu/apihub/odata/v1/P...</td>\n",
       "      <td>https://apihub.copernicus.eu/apihub/odata/v1/P...</td>\n",
       "      <td>Date: 2022-09-15T09:17:09.878Z, Instrument: SA...</td>\n",
       "      <td>false</td>\n",
       "      <td>2022-09-15 09:17:09.878</td>\n",
       "      <td>2022-09-15 09:17:34.878</td>\n",
       "      <td>2022-09-15 11:18:28.522</td>\n",
       "      <td>352447</td>\n",
       "      <td>...</td>\n",
       "      <td>Sentinel-1</td>\n",
       "      <td>2014-016A</td>\n",
       "      <td>Synthetic Aperture Radar (C-band)</td>\n",
       "      <td>SAR-C SAR</td>\n",
       "      <td>S</td>\n",
       "      <td>VV VH</td>\n",
       "      <td>NOMINAL</td>\n",
       "      <td>&lt;gml:Polygon srsName=\"http://www.opengis.net/g...</td>\n",
       "      <td>MULTIPOLYGON (((-54.146656 -11.880938, -53.807...</td>\n",
       "      <td>cc892d51-e56d-487b-b3d1-4b2b1b7a837f</td>\n",
       "    </tr>\n",
       "  </tbody>\n",
       "</table>\n",
       "<p>3 rows × 35 columns</p>\n",
       "</div>"
      ],
      "text/plain": [
       "                                                                                  title  \\\n",
       "2faa40e5-24c4-4e59-af01-2e5143d3ccf1  S1A_IW_GRDH_1SDV_20220915T091644_20220915T0917...   \n",
       "37133e48-797c-48bb-be3c-9f1fe8f0b1c9  S1A_IW_GRDH_1SDV_20220915T091734_20220915T0917...   \n",
       "cc892d51-e56d-487b-b3d1-4b2b1b7a837f  S1A_IW_GRDH_1SDV_20220915T091709_20220915T0917...   \n",
       "\n",
       "                                                                                   link  \\\n",
       "2faa40e5-24c4-4e59-af01-2e5143d3ccf1  https://apihub.copernicus.eu/apihub/odata/v1/P...   \n",
       "37133e48-797c-48bb-be3c-9f1fe8f0b1c9  https://apihub.copernicus.eu/apihub/odata/v1/P...   \n",
       "cc892d51-e56d-487b-b3d1-4b2b1b7a837f  https://apihub.copernicus.eu/apihub/odata/v1/P...   \n",
       "\n",
       "                                                                       link_alternative  \\\n",
       "2faa40e5-24c4-4e59-af01-2e5143d3ccf1  https://apihub.copernicus.eu/apihub/odata/v1/P...   \n",
       "37133e48-797c-48bb-be3c-9f1fe8f0b1c9  https://apihub.copernicus.eu/apihub/odata/v1/P...   \n",
       "cc892d51-e56d-487b-b3d1-4b2b1b7a837f  https://apihub.copernicus.eu/apihub/odata/v1/P...   \n",
       "\n",
       "                                                                              link_icon  \\\n",
       "2faa40e5-24c4-4e59-af01-2e5143d3ccf1  https://apihub.copernicus.eu/apihub/odata/v1/P...   \n",
       "37133e48-797c-48bb-be3c-9f1fe8f0b1c9  https://apihub.copernicus.eu/apihub/odata/v1/P...   \n",
       "cc892d51-e56d-487b-b3d1-4b2b1b7a837f  https://apihub.copernicus.eu/apihub/odata/v1/P...   \n",
       "\n",
       "                                                                                summary  \\\n",
       "2faa40e5-24c4-4e59-af01-2e5143d3ccf1  Date: 2022-09-15T09:16:44.878Z, Instrument: SA...   \n",
       "37133e48-797c-48bb-be3c-9f1fe8f0b1c9  Date: 2022-09-15T09:17:34.879Z, Instrument: SA...   \n",
       "cc892d51-e56d-487b-b3d1-4b2b1b7a837f  Date: 2022-09-15T09:17:09.878Z, Instrument: SA...   \n",
       "\n",
       "                                     ondemand           beginposition  \\\n",
       "2faa40e5-24c4-4e59-af01-2e5143d3ccf1    false 2022-09-15 09:16:44.878   \n",
       "37133e48-797c-48bb-be3c-9f1fe8f0b1c9    false 2022-09-15 09:17:34.879   \n",
       "cc892d51-e56d-487b-b3d1-4b2b1b7a837f    false 2022-09-15 09:17:09.878   \n",
       "\n",
       "                                                 endposition  \\\n",
       "2faa40e5-24c4-4e59-af01-2e5143d3ccf1 2022-09-15 09:17:09.877   \n",
       "37133e48-797c-48bb-be3c-9f1fe8f0b1c9 2022-09-15 09:17:59.877   \n",
       "cc892d51-e56d-487b-b3d1-4b2b1b7a837f 2022-09-15 09:17:34.878   \n",
       "\n",
       "                                               ingestiondate  \\\n",
       "2faa40e5-24c4-4e59-af01-2e5143d3ccf1 2022-09-15 11:30:20.390   \n",
       "37133e48-797c-48bb-be3c-9f1fe8f0b1c9 2022-09-15 11:24:28.892   \n",
       "cc892d51-e56d-487b-b3d1-4b2b1b7a837f 2022-09-15 11:18:28.522   \n",
       "\n",
       "                                      missiondatatakeid  ...  platformname  \\\n",
       "2faa40e5-24c4-4e59-af01-2e5143d3ccf1             352447  ...    Sentinel-1   \n",
       "37133e48-797c-48bb-be3c-9f1fe8f0b1c9             352447  ...    Sentinel-1   \n",
       "cc892d51-e56d-487b-b3d1-4b2b1b7a837f             352447  ...    Sentinel-1   \n",
       "\n",
       "                                      platformidentifier  \\\n",
       "2faa40e5-24c4-4e59-af01-2e5143d3ccf1           2014-016A   \n",
       "37133e48-797c-48bb-be3c-9f1fe8f0b1c9           2014-016A   \n",
       "cc892d51-e56d-487b-b3d1-4b2b1b7a837f           2014-016A   \n",
       "\n",
       "                                                         instrumentname  \\\n",
       "2faa40e5-24c4-4e59-af01-2e5143d3ccf1  Synthetic Aperture Radar (C-band)   \n",
       "37133e48-797c-48bb-be3c-9f1fe8f0b1c9  Synthetic Aperture Radar (C-band)   \n",
       "cc892d51-e56d-487b-b3d1-4b2b1b7a837f  Synthetic Aperture Radar (C-band)   \n",
       "\n",
       "                                      instrumentshortname  productclass  \\\n",
       "2faa40e5-24c4-4e59-af01-2e5143d3ccf1            SAR-C SAR             S   \n",
       "37133e48-797c-48bb-be3c-9f1fe8f0b1c9            SAR-C SAR             S   \n",
       "cc892d51-e56d-487b-b3d1-4b2b1b7a837f            SAR-C SAR             S   \n",
       "\n",
       "                                     polarisationmode acquisitiontype  \\\n",
       "2faa40e5-24c4-4e59-af01-2e5143d3ccf1            VV VH         NOMINAL   \n",
       "37133e48-797c-48bb-be3c-9f1fe8f0b1c9            VV VH         NOMINAL   \n",
       "cc892d51-e56d-487b-b3d1-4b2b1b7a837f            VV VH         NOMINAL   \n",
       "\n",
       "                                                                           gmlfootprint  \\\n",
       "2faa40e5-24c4-4e59-af01-2e5143d3ccf1  <gml:Polygon srsName=\"http://www.opengis.net/g...   \n",
       "37133e48-797c-48bb-be3c-9f1fe8f0b1c9  <gml:Polygon srsName=\"http://www.opengis.net/g...   \n",
       "cc892d51-e56d-487b-b3d1-4b2b1b7a837f  <gml:Polygon srsName=\"http://www.opengis.net/g...   \n",
       "\n",
       "                                                                              footprint  \\\n",
       "2faa40e5-24c4-4e59-af01-2e5143d3ccf1  MULTIPOLYGON (((-53.807205 -10.371514, -53.470...   \n",
       "37133e48-797c-48bb-be3c-9f1fe8f0b1c9  MULTIPOLYGON (((-54.491562 -13.389433, -54.146...   \n",
       "cc892d51-e56d-487b-b3d1-4b2b1b7a837f  MULTIPOLYGON (((-54.146656 -11.880938, -53.807...   \n",
       "\n",
       "                                                                      uuid  \n",
       "2faa40e5-24c4-4e59-af01-2e5143d3ccf1  2faa40e5-24c4-4e59-af01-2e5143d3ccf1  \n",
       "37133e48-797c-48bb-be3c-9f1fe8f0b1c9  37133e48-797c-48bb-be3c-9f1fe8f0b1c9  \n",
       "cc892d51-e56d-487b-b3d1-4b2b1b7a837f  cc892d51-e56d-487b-b3d1-4b2b1b7a837f  \n",
       "\n",
       "[3 rows x 35 columns]"
      ]
     },
     "execution_count": 40,
     "metadata": {},
     "output_type": "execute_result"
    }
   ],
   "source": [
    "products_df"
   ]
  }
 ],
 "metadata": {
  "kernelspec": {
   "display_name": "Python 3 (ipykernel)",
   "language": "python",
   "name": "python3"
  },
  "language_info": {
   "codemirror_mode": {
    "name": "ipython",
    "version": 3
   },
   "file_extension": ".py",
   "mimetype": "text/x-python",
   "name": "python",
   "nbconvert_exporter": "python",
   "pygments_lexer": "ipython3",
   "version": "3.9.13"
  }
 },
 "nbformat": 4,
 "nbformat_minor": 5
}
