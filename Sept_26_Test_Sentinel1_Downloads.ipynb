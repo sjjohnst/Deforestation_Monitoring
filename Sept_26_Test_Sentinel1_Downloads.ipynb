{
 "cells": [
  {
   "cell_type": "code",
   "execution_count": 9,
   "id": "23ccbdc2-f025-4adf-8223-38ee35b431f9",
   "metadata": {},
   "outputs": [],
   "source": [
    "from sentinelsat import SentinelAPI, read_geojson, geojson_to_wkt, make_path_filter\n",
    "from datetime import date"
   ]
  },
  {
   "cell_type": "code",
   "execution_count": 2,
   "id": "2b1cc3dc-f127-48d2-92f1-7696235f7442",
   "metadata": {},
   "outputs": [],
   "source": [
    "# connect to the API\n",
    "api = SentinelAPI('sjjohnst', 'Atmosphere1806.', 'https://apihub.copernicus.eu/apihub')"
   ]
  },
  {
   "cell_type": "code",
   "execution_count": 3,
   "id": "b1409d25-04b0-4c18-a5b7-13243b459a1a",
   "metadata": {},
   "outputs": [],
   "source": [
    "# -54.360351562499986 -12.640338306846786,-51.284179687499986 -12.640338306846786,-51.284179687499986 -9.795677582829725,-54.360351562499986 -9.795677582829725,-54.360351562499986 -12.640338306846786\n",
    "lat_longs = [\n",
    "        (-54.360351562499986, -12.640338306846786),\n",
    "        (-51.284179687499986, -12.640338306846786),\n",
    "        (-51.284179687499986, -9.795677582829725),\n",
    "        (-54.360351562499986, -9.795677582829725),\n",
    "        (-54.360351562499986, -12.640338306846786)\n",
    "]"
   ]
  },
  {
   "cell_type": "code",
   "execution_count": 4,
   "id": "7db0dde8-f882-4f1b-9ca1-71dc5f1d9426",
   "metadata": {},
   "outputs": [
    {
     "name": "stdout",
     "output_type": "stream",
     "text": [
      "POLYGON ((-54.36035156249999 -12.64033830684679, -51.28417968749999 -12.64033830684679, -51.28417968749999 -9.795677582829725, -54.36035156249999 -9.795677582829725, -54.36035156249999 -12.64033830684679))\n"
     ]
    }
   ],
   "source": [
    "from shapely.geometry import Polygon\n",
    "polygon = Polygon(lat_longs)\n",
    "print(polygon.wkt)"
   ]
  },
  {
   "cell_type": "code",
   "execution_count": 16,
   "id": "4dff0c06-8278-49e9-9ae3-126a1ea0e359",
   "metadata": {},
   "outputs": [],
   "source": [
    "products = api.query(polygon.wkt, \n",
    "                     date = (date(2022, 9, 15), date(2022, 9, 16)),\n",
    "                     platformname = 'Sentinel-1',\n",
    "                     producttype='SLC')"
   ]
  },
  {
   "cell_type": "code",
   "execution_count": 17,
   "id": "13aa26bb-a994-4709-851b-489518835d91",
   "metadata": {},
   "outputs": [
    {
     "data": {
      "text/plain": [
       "3"
      ]
     },
     "execution_count": 17,
     "metadata": {},
     "output_type": "execute_result"
    }
   ],
   "source": [
    "len(products)"
   ]
  },
  {
   "cell_type": "code",
   "execution_count": 18,
   "id": "2f60810b-80a3-4c4c-b31e-94c9c8e059f7",
   "metadata": {},
   "outputs": [],
   "source": [
    "products_df = api.to_dataframe(products)"
   ]
  },
  {
   "cell_type": "code",
   "execution_count": 19,
   "id": "773fad75-830e-4da0-972f-99d24ce4abfe",
   "metadata": {},
   "outputs": [
    {
     "data": {
      "text/html": [
       "<div>\n",
       "<style scoped>\n",
       "    .dataframe tbody tr th:only-of-type {\n",
       "        vertical-align: middle;\n",
       "    }\n",
       "\n",
       "    .dataframe tbody tr th {\n",
       "        vertical-align: top;\n",
       "    }\n",
       "\n",
       "    .dataframe thead th {\n",
       "        text-align: right;\n",
       "    }\n",
       "</style>\n",
       "<table border=\"1\" class=\"dataframe\">\n",
       "  <thead>\n",
       "    <tr style=\"text-align: right;\">\n",
       "      <th></th>\n",
       "      <th>title</th>\n",
       "      <th>link</th>\n",
       "      <th>link_alternative</th>\n",
       "      <th>link_icon</th>\n",
       "      <th>summary</th>\n",
       "      <th>ondemand</th>\n",
       "      <th>beginposition</th>\n",
       "      <th>endposition</th>\n",
       "      <th>ingestiondate</th>\n",
       "      <th>missiondatatakeid</th>\n",
       "      <th>...</th>\n",
       "      <th>platformname</th>\n",
       "      <th>platformidentifier</th>\n",
       "      <th>instrumentname</th>\n",
       "      <th>instrumentshortname</th>\n",
       "      <th>productclass</th>\n",
       "      <th>polarisationmode</th>\n",
       "      <th>acquisitiontype</th>\n",
       "      <th>gmlfootprint</th>\n",
       "      <th>footprint</th>\n",
       "      <th>uuid</th>\n",
       "    </tr>\n",
       "  </thead>\n",
       "  <tbody>\n",
       "    <tr>\n",
       "      <th>ac2fd8ea-5d99-4543-9145-be2b180ef9de</th>\n",
       "      <td>S1A_IW_SLC__1SDV_20220915T091643_20220915T0917...</td>\n",
       "      <td>https://apihub.copernicus.eu/apihub/odata/v1/P...</td>\n",
       "      <td>https://apihub.copernicus.eu/apihub/odata/v1/P...</td>\n",
       "      <td>https://apihub.copernicus.eu/apihub/odata/v1/P...</td>\n",
       "      <td>Date: 2022-09-15T09:16:43.745Z, Instrument: SA...</td>\n",
       "      <td>false</td>\n",
       "      <td>2022-09-15 09:16:43.745</td>\n",
       "      <td>2022-09-15 09:17:10.708</td>\n",
       "      <td>2022-09-15 11:39:52.870</td>\n",
       "      <td>352447</td>\n",
       "      <td>...</td>\n",
       "      <td>Sentinel-1</td>\n",
       "      <td>2014-016A</td>\n",
       "      <td>Synthetic Aperture Radar (C-band)</td>\n",
       "      <td>SAR-C SAR</td>\n",
       "      <td>S</td>\n",
       "      <td>VV VH</td>\n",
       "      <td>NOMINAL</td>\n",
       "      <td>&lt;gml:Polygon srsName=\"http://www.opengis.net/g...</td>\n",
       "      <td>MULTIPOLYGON (((-53.817886 -10.421838, -53.455...</td>\n",
       "      <td>ac2fd8ea-5d99-4543-9145-be2b180ef9de</td>\n",
       "    </tr>\n",
       "    <tr>\n",
       "      <th>1da7de3f-ee48-4b3d-a29d-b392a6c9ade2</th>\n",
       "      <td>S1A_IW_SLC__1SDV_20220915T091708_20220915T0917...</td>\n",
       "      <td>https://apihub.copernicus.eu/apihub/odata/v1/P...</td>\n",
       "      <td>https://apihub.copernicus.eu/apihub/odata/v1/P...</td>\n",
       "      <td>https://apihub.copernicus.eu/apihub/odata/v1/P...</td>\n",
       "      <td>Date: 2022-09-15T09:17:08.574Z, Instrument: SA...</td>\n",
       "      <td>false</td>\n",
       "      <td>2022-09-15 09:17:08.574</td>\n",
       "      <td>2022-09-15 09:17:35.531</td>\n",
       "      <td>2022-09-15 11:35:36.006</td>\n",
       "      <td>352447</td>\n",
       "      <td>...</td>\n",
       "      <td>Sentinel-1</td>\n",
       "      <td>2014-016A</td>\n",
       "      <td>Synthetic Aperture Radar (C-band)</td>\n",
       "      <td>SAR-C SAR</td>\n",
       "      <td>S</td>\n",
       "      <td>VV VH</td>\n",
       "      <td>NOMINAL</td>\n",
       "      <td>&lt;gml:Polygon srsName=\"http://www.opengis.net/g...</td>\n",
       "      <td>MULTIPOLYGON (((-54.15276 -11.921, -53.786129 ...</td>\n",
       "      <td>1da7de3f-ee48-4b3d-a29d-b392a6c9ade2</td>\n",
       "    </tr>\n",
       "    <tr>\n",
       "      <th>2a6fad69-393b-40b5-bb15-e8cd722d76cf</th>\n",
       "      <td>S1A_IW_SLC__1SDV_20220915T091733_20220915T0918...</td>\n",
       "      <td>https://apihub.copernicus.eu/apihub/odata/v1/P...</td>\n",
       "      <td>https://apihub.copernicus.eu/apihub/odata/v1/P...</td>\n",
       "      <td>https://apihub.copernicus.eu/apihub/odata/v1/P...</td>\n",
       "      <td>Date: 2022-09-15T09:17:33.397Z, Instrument: SA...</td>\n",
       "      <td>false</td>\n",
       "      <td>2022-09-15 09:17:33.397</td>\n",
       "      <td>2022-09-15 09:18:01.324</td>\n",
       "      <td>2022-09-15 11:35:35.768</td>\n",
       "      <td>352447</td>\n",
       "      <td>...</td>\n",
       "      <td>Sentinel-1</td>\n",
       "      <td>2014-016A</td>\n",
       "      <td>Synthetic Aperture Radar (C-band)</td>\n",
       "      <td>SAR-C SAR</td>\n",
       "      <td>S</td>\n",
       "      <td>VV VH</td>\n",
       "      <td>NOMINAL</td>\n",
       "      <td>&lt;gml:Polygon srsName=\"http://www.opengis.net/g...</td>\n",
       "      <td>MULTIPOLYGON (((-54.510746 -13.476915, -54.125...</td>\n",
       "      <td>2a6fad69-393b-40b5-bb15-e8cd722d76cf</td>\n",
       "    </tr>\n",
       "  </tbody>\n",
       "</table>\n",
       "<p>3 rows × 35 columns</p>\n",
       "</div>"
      ],
      "text/plain": [
       "                                                                                  title  \\\n",
       "ac2fd8ea-5d99-4543-9145-be2b180ef9de  S1A_IW_SLC__1SDV_20220915T091643_20220915T0917...   \n",
       "1da7de3f-ee48-4b3d-a29d-b392a6c9ade2  S1A_IW_SLC__1SDV_20220915T091708_20220915T0917...   \n",
       "2a6fad69-393b-40b5-bb15-e8cd722d76cf  S1A_IW_SLC__1SDV_20220915T091733_20220915T0918...   \n",
       "\n",
       "                                                                                   link  \\\n",
       "ac2fd8ea-5d99-4543-9145-be2b180ef9de  https://apihub.copernicus.eu/apihub/odata/v1/P...   \n",
       "1da7de3f-ee48-4b3d-a29d-b392a6c9ade2  https://apihub.copernicus.eu/apihub/odata/v1/P...   \n",
       "2a6fad69-393b-40b5-bb15-e8cd722d76cf  https://apihub.copernicus.eu/apihub/odata/v1/P...   \n",
       "\n",
       "                                                                       link_alternative  \\\n",
       "ac2fd8ea-5d99-4543-9145-be2b180ef9de  https://apihub.copernicus.eu/apihub/odata/v1/P...   \n",
       "1da7de3f-ee48-4b3d-a29d-b392a6c9ade2  https://apihub.copernicus.eu/apihub/odata/v1/P...   \n",
       "2a6fad69-393b-40b5-bb15-e8cd722d76cf  https://apihub.copernicus.eu/apihub/odata/v1/P...   \n",
       "\n",
       "                                                                              link_icon  \\\n",
       "ac2fd8ea-5d99-4543-9145-be2b180ef9de  https://apihub.copernicus.eu/apihub/odata/v1/P...   \n",
       "1da7de3f-ee48-4b3d-a29d-b392a6c9ade2  https://apihub.copernicus.eu/apihub/odata/v1/P...   \n",
       "2a6fad69-393b-40b5-bb15-e8cd722d76cf  https://apihub.copernicus.eu/apihub/odata/v1/P...   \n",
       "\n",
       "                                                                                summary  \\\n",
       "ac2fd8ea-5d99-4543-9145-be2b180ef9de  Date: 2022-09-15T09:16:43.745Z, Instrument: SA...   \n",
       "1da7de3f-ee48-4b3d-a29d-b392a6c9ade2  Date: 2022-09-15T09:17:08.574Z, Instrument: SA...   \n",
       "2a6fad69-393b-40b5-bb15-e8cd722d76cf  Date: 2022-09-15T09:17:33.397Z, Instrument: SA...   \n",
       "\n",
       "                                     ondemand           beginposition  \\\n",
       "ac2fd8ea-5d99-4543-9145-be2b180ef9de    false 2022-09-15 09:16:43.745   \n",
       "1da7de3f-ee48-4b3d-a29d-b392a6c9ade2    false 2022-09-15 09:17:08.574   \n",
       "2a6fad69-393b-40b5-bb15-e8cd722d76cf    false 2022-09-15 09:17:33.397   \n",
       "\n",
       "                                                 endposition  \\\n",
       "ac2fd8ea-5d99-4543-9145-be2b180ef9de 2022-09-15 09:17:10.708   \n",
       "1da7de3f-ee48-4b3d-a29d-b392a6c9ade2 2022-09-15 09:17:35.531   \n",
       "2a6fad69-393b-40b5-bb15-e8cd722d76cf 2022-09-15 09:18:01.324   \n",
       "\n",
       "                                               ingestiondate  \\\n",
       "ac2fd8ea-5d99-4543-9145-be2b180ef9de 2022-09-15 11:39:52.870   \n",
       "1da7de3f-ee48-4b3d-a29d-b392a6c9ade2 2022-09-15 11:35:36.006   \n",
       "2a6fad69-393b-40b5-bb15-e8cd722d76cf 2022-09-15 11:35:35.768   \n",
       "\n",
       "                                      missiondatatakeid  ...  platformname  \\\n",
       "ac2fd8ea-5d99-4543-9145-be2b180ef9de             352447  ...    Sentinel-1   \n",
       "1da7de3f-ee48-4b3d-a29d-b392a6c9ade2             352447  ...    Sentinel-1   \n",
       "2a6fad69-393b-40b5-bb15-e8cd722d76cf             352447  ...    Sentinel-1   \n",
       "\n",
       "                                      platformidentifier  \\\n",
       "ac2fd8ea-5d99-4543-9145-be2b180ef9de           2014-016A   \n",
       "1da7de3f-ee48-4b3d-a29d-b392a6c9ade2           2014-016A   \n",
       "2a6fad69-393b-40b5-bb15-e8cd722d76cf           2014-016A   \n",
       "\n",
       "                                                         instrumentname  \\\n",
       "ac2fd8ea-5d99-4543-9145-be2b180ef9de  Synthetic Aperture Radar (C-band)   \n",
       "1da7de3f-ee48-4b3d-a29d-b392a6c9ade2  Synthetic Aperture Radar (C-band)   \n",
       "2a6fad69-393b-40b5-bb15-e8cd722d76cf  Synthetic Aperture Radar (C-band)   \n",
       "\n",
       "                                      instrumentshortname  productclass  \\\n",
       "ac2fd8ea-5d99-4543-9145-be2b180ef9de            SAR-C SAR             S   \n",
       "1da7de3f-ee48-4b3d-a29d-b392a6c9ade2            SAR-C SAR             S   \n",
       "2a6fad69-393b-40b5-bb15-e8cd722d76cf            SAR-C SAR             S   \n",
       "\n",
       "                                     polarisationmode acquisitiontype  \\\n",
       "ac2fd8ea-5d99-4543-9145-be2b180ef9de            VV VH         NOMINAL   \n",
       "1da7de3f-ee48-4b3d-a29d-b392a6c9ade2            VV VH         NOMINAL   \n",
       "2a6fad69-393b-40b5-bb15-e8cd722d76cf            VV VH         NOMINAL   \n",
       "\n",
       "                                                                           gmlfootprint  \\\n",
       "ac2fd8ea-5d99-4543-9145-be2b180ef9de  <gml:Polygon srsName=\"http://www.opengis.net/g...   \n",
       "1da7de3f-ee48-4b3d-a29d-b392a6c9ade2  <gml:Polygon srsName=\"http://www.opengis.net/g...   \n",
       "2a6fad69-393b-40b5-bb15-e8cd722d76cf  <gml:Polygon srsName=\"http://www.opengis.net/g...   \n",
       "\n",
       "                                                                              footprint  \\\n",
       "ac2fd8ea-5d99-4543-9145-be2b180ef9de  MULTIPOLYGON (((-53.817886 -10.421838, -53.455...   \n",
       "1da7de3f-ee48-4b3d-a29d-b392a6c9ade2  MULTIPOLYGON (((-54.15276 -11.921, -53.786129 ...   \n",
       "2a6fad69-393b-40b5-bb15-e8cd722d76cf  MULTIPOLYGON (((-54.510746 -13.476915, -54.125...   \n",
       "\n",
       "                                                                      uuid  \n",
       "ac2fd8ea-5d99-4543-9145-be2b180ef9de  ac2fd8ea-5d99-4543-9145-be2b180ef9de  \n",
       "1da7de3f-ee48-4b3d-a29d-b392a6c9ade2  1da7de3f-ee48-4b3d-a29d-b392a6c9ade2  \n",
       "2a6fad69-393b-40b5-bb15-e8cd722d76cf  2a6fad69-393b-40b5-bb15-e8cd722d76cf  \n",
       "\n",
       "[3 rows x 35 columns]"
      ]
     },
     "execution_count": 19,
     "metadata": {},
     "output_type": "execute_result"
    }
   ],
   "source": [
    "products_df"
   ]
  },
  {
   "cell_type": "code",
   "execution_count": 20,
   "id": "063823f4-6f24-48d6-ba26-59a121bb066d",
   "metadata": {},
   "outputs": [],
   "source": [
    "\"\"\"\n",
    "Path filter can be used to only download certain parts of the product.\n",
    "Here I've written a filter that will only download measurements of IW sub-swath (will ignore all the other metadata)\n",
    "\"\"\"\n",
    "\n",
    "path_filter = make_path_filter(\"*s1?-iw[123]-slc-*.tiff\")"
   ]
  },
  {
   "cell_type": "code",
   "execution_count": 21,
   "id": "82d1f212-e47b-40a8-b442-666222c3d83e",
   "metadata": {},
   "outputs": [
    {
     "data": {
      "application/vnd.jupyter.widget-view+json": {
       "model_id": "534218c2101b490db9a07513cbaa1cde",
       "version_major": 2,
       "version_minor": 0
      },
      "text/plain": [
       "Downloading products:   0%|          | 0/3 [00:00<?, ?product/s]"
      ]
     },
     "metadata": {},
     "output_type": "display_data"
    },
    {
     "data": {
      "application/vnd.jupyter.widget-view+json": {
       "model_id": "4b6b864b299f48398c809fc4e6483c42",
       "version_major": 2,
       "version_minor": 0
      },
      "text/plain": [
       "Downloading s1a-iw1-slc-vh-20220915t091709-20220915t091734-045013-0560bf-001.tiff:   0%|          | 0.00/1.20G…"
      ]
     },
     "metadata": {},
     "output_type": "display_data"
    },
    {
     "name": "stderr",
     "output_type": "stream",
     "text": [
      "There was an error downloading S1A_IW_SLC__1SDV_20220915T091643_20220915T091710_045013_0560BF_D832\n",
      "Traceback (most recent call last):\n",
      "  File \"D:\\Anaconda\\envs\\geomatics\\lib\\site-packages\\sentinelsat\\sentinel.py\", line 1017, in _check_scihub_response\n",
      "    response.raise_for_status()\n",
      "  File \"D:\\Anaconda\\envs\\geomatics\\lib\\site-packages\\requests\\models.py\", line 1021, in raise_for_status\n",
      "    raise HTTPError(http_error_msg, response=self)\n",
      "requests.exceptions.HTTPError: 504 Server Error: Gateway Time-out for url: https://apihub.copernicus.eu/apihub/odata/v1/Products('ac2fd8ea-5d99-4543-9145-be2b180ef9de')/$value\n",
      "\n",
      "During handling of the above exception, another exception occurred:\n",
      "\n",
      "Traceback (most recent call last):\n",
      "  File \"D:\\Anaconda\\envs\\geomatics\\lib\\site-packages\\sentinelsat\\download.py\", line 700, in _download_online_retry\n",
      "    return self.download(uuid, directory, stop_event=stop_event)\n",
      "  File \"D:\\Anaconda\\envs\\geomatics\\lib\\site-packages\\sentinelsat\\download.py\", line 133, in download\n",
      "    return self._download_with_node_filter(id, directory, stop_event)\n",
      "  File \"D:\\Anaconda\\envs\\geomatics\\lib\\site-packages\\sentinelsat\\download.py\", line 158, in _download_with_node_filter\n",
      "    if not manifest_path.exists() and self.trigger_offline_retrieval(id):\n",
      "  File \"D:\\Anaconda\\envs\\geomatics\\lib\\site-packages\\sentinelsat\\download.py\", line 504, in trigger_offline_retrieval\n",
      "    self.api._check_scihub_response(r, test_json=False)\n",
      "  File \"D:\\Anaconda\\envs\\geomatics\\lib\\site-packages\\sentinelsat\\sentinel.py\", line 1063, in _check_scihub_response\n",
      "    raise ServerError(msg, response)\n",
      "sentinelsat.exceptions.ServerError: HTTP status 504 Gateway Time-out: \n",
      "# 504 Gateway Time-out\n",
      "\n",
      "The server didn't respond in time.\n",
      "There was an error downloading S1A_IW_SLC__1SDV_20220915T091733_20220915T091801_045013_0560BF_D4C8\n",
      "Traceback (most recent call last):\n",
      "  File \"D:\\Anaconda\\envs\\geomatics\\lib\\site-packages\\sentinelsat\\sentinel.py\", line 1017, in _check_scihub_response\n",
      "    response.raise_for_status()\n",
      "  File \"D:\\Anaconda\\envs\\geomatics\\lib\\site-packages\\requests\\models.py\", line 1021, in raise_for_status\n",
      "    raise HTTPError(http_error_msg, response=self)\n",
      "requests.exceptions.HTTPError: 504 Server Error: Gateway Time-out for url: https://apihub.copernicus.eu/apihub/odata/v1/Products('2a6fad69-393b-40b5-bb15-e8cd722d76cf')/$value\n",
      "\n",
      "During handling of the above exception, another exception occurred:\n",
      "\n",
      "Traceback (most recent call last):\n",
      "  File \"D:\\Anaconda\\envs\\geomatics\\lib\\site-packages\\sentinelsat\\download.py\", line 700, in _download_online_retry\n",
      "    return self.download(uuid, directory, stop_event=stop_event)\n",
      "  File \"D:\\Anaconda\\envs\\geomatics\\lib\\site-packages\\sentinelsat\\download.py\", line 133, in download\n",
      "    return self._download_with_node_filter(id, directory, stop_event)\n",
      "  File \"D:\\Anaconda\\envs\\geomatics\\lib\\site-packages\\sentinelsat\\download.py\", line 158, in _download_with_node_filter\n",
      "    if not manifest_path.exists() and self.trigger_offline_retrieval(id):\n",
      "  File \"D:\\Anaconda\\envs\\geomatics\\lib\\site-packages\\sentinelsat\\download.py\", line 504, in trigger_offline_retrieval\n",
      "    self.api._check_scihub_response(r, test_json=False)\n",
      "  File \"D:\\Anaconda\\envs\\geomatics\\lib\\site-packages\\sentinelsat\\sentinel.py\", line 1063, in _check_scihub_response\n",
      "    raise ServerError(msg, response)\n",
      "sentinelsat.exceptions.ServerError: HTTP status 504 Gateway Time-out: \n",
      "# 504 Gateway Time-out\n",
      "\n",
      "The server didn't respond in time.\n",
      "There was an error downloading S1A_IW_SLC__1SDV_20220915T091643_20220915T091710_045013_0560BF_D832\n",
      "Traceback (most recent call last):\n",
      "  File \"D:\\Anaconda\\envs\\geomatics\\lib\\site-packages\\sentinelsat\\sentinel.py\", line 1017, in _check_scihub_response\n",
      "    response.raise_for_status()\n",
      "  File \"D:\\Anaconda\\envs\\geomatics\\lib\\site-packages\\requests\\models.py\", line 1021, in raise_for_status\n",
      "    raise HTTPError(http_error_msg, response=self)\n",
      "requests.exceptions.HTTPError: 500 Server Error:  for url: https://apihub.copernicus.eu/apihub/odata/v1/Products('ac2fd8ea-5d99-4543-9145-be2b180ef9de')/Nodes('S1A_IW_SLC__1SDV_20220915T091643_20220915T091710_045013_0560BF_D832.SAFE')/Nodes('manifest.safe')/$value\n",
      "\n",
      "During handling of the above exception, another exception occurred:\n",
      "\n",
      "Traceback (most recent call last):\n",
      "  File \"D:\\Anaconda\\envs\\geomatics\\lib\\site-packages\\sentinelsat\\download.py\", line 700, in _download_online_retry\n",
      "    return self.download(uuid, directory, stop_event=stop_event)\n",
      "  File \"D:\\Anaconda\\envs\\geomatics\\lib\\site-packages\\sentinelsat\\download.py\", line 133, in download\n",
      "    return self._download_with_node_filter(id, directory, stop_event)\n",
      "  File \"D:\\Anaconda\\envs\\geomatics\\lib\\site-packages\\sentinelsat\\download.py\", line 160, in _download_with_node_filter\n",
      "    manifest_info, _ = self.api._get_manifest(product_info, manifest_path)\n",
      "  File \"D:\\Anaconda\\envs\\geomatics\\lib\\site-packages\\sentinelsat\\sentinel.py\", line 1105, in _get_manifest\n",
      "    self._check_scihub_response(response, test_json=False)\n",
      "  File \"D:\\Anaconda\\envs\\geomatics\\lib\\site-packages\\sentinelsat\\sentinel.py\", line 1063, in _check_scihub_response\n",
      "    raise ServerError(msg, response)\n",
      "sentinelsat.exceptions.ServerError: HTTP status 500: ODataException : An exception occured while creating the stream for node manifest.safe\n",
      "There was an error downloading S1A_IW_SLC__1SDV_20220915T091643_20220915T091710_045013_0560BF_D832\n",
      "Traceback (most recent call last):\n",
      "  File \"D:\\Anaconda\\envs\\geomatics\\lib\\site-packages\\sentinelsat\\sentinel.py\", line 1017, in _check_scihub_response\n",
      "    response.raise_for_status()\n",
      "  File \"D:\\Anaconda\\envs\\geomatics\\lib\\site-packages\\requests\\models.py\", line 1021, in raise_for_status\n",
      "    raise HTTPError(http_error_msg, response=self)\n",
      "requests.exceptions.HTTPError: 500 Server Error:  for url: https://apihub.copernicus.eu/apihub/odata/v1/Products('ac2fd8ea-5d99-4543-9145-be2b180ef9de')/Nodes('S1A_IW_SLC__1SDV_20220915T091643_20220915T091710_045013_0560BF_D832.SAFE')/Nodes('manifest.safe')/$value\n",
      "\n",
      "During handling of the above exception, another exception occurred:\n",
      "\n",
      "Traceback (most recent call last):\n",
      "  File \"D:\\Anaconda\\envs\\geomatics\\lib\\site-packages\\sentinelsat\\download.py\", line 700, in _download_online_retry\n",
      "    return self.download(uuid, directory, stop_event=stop_event)\n",
      "  File \"D:\\Anaconda\\envs\\geomatics\\lib\\site-packages\\sentinelsat\\download.py\", line 133, in download\n",
      "    return self._download_with_node_filter(id, directory, stop_event)\n",
      "  File \"D:\\Anaconda\\envs\\geomatics\\lib\\site-packages\\sentinelsat\\download.py\", line 160, in _download_with_node_filter\n",
      "    manifest_info, _ = self.api._get_manifest(product_info, manifest_path)\n",
      "  File \"D:\\Anaconda\\envs\\geomatics\\lib\\site-packages\\sentinelsat\\sentinel.py\", line 1105, in _get_manifest\n",
      "    self._check_scihub_response(response, test_json=False)\n",
      "  File \"D:\\Anaconda\\envs\\geomatics\\lib\\site-packages\\sentinelsat\\sentinel.py\", line 1063, in _check_scihub_response\n",
      "    raise ServerError(msg, response)\n",
      "sentinelsat.exceptions.ServerError: HTTP status 500: ODataException : An exception occured while creating the stream for node manifest.safe\n",
      "There was an error downloading S1A_IW_SLC__1SDV_20220915T091733_20220915T091801_045013_0560BF_D4C8\n",
      "Traceback (most recent call last):\n",
      "  File \"D:\\Anaconda\\envs\\geomatics\\lib\\site-packages\\sentinelsat\\sentinel.py\", line 1017, in _check_scihub_response\n",
      "    response.raise_for_status()\n",
      "  File \"D:\\Anaconda\\envs\\geomatics\\lib\\site-packages\\requests\\models.py\", line 1021, in raise_for_status\n",
      "    raise HTTPError(http_error_msg, response=self)\n",
      "requests.exceptions.HTTPError: 504 Server Error: Gateway Time-out for url: https://apihub.copernicus.eu/apihub/odata/v1/Products('2a6fad69-393b-40b5-bb15-e8cd722d76cf')/$value\n",
      "\n",
      "During handling of the above exception, another exception occurred:\n",
      "\n",
      "Traceback (most recent call last):\n",
      "  File \"D:\\Anaconda\\envs\\geomatics\\lib\\site-packages\\sentinelsat\\download.py\", line 700, in _download_online_retry\n",
      "    return self.download(uuid, directory, stop_event=stop_event)\n",
      "  File \"D:\\Anaconda\\envs\\geomatics\\lib\\site-packages\\sentinelsat\\download.py\", line 133, in download\n",
      "    return self._download_with_node_filter(id, directory, stop_event)\n",
      "  File \"D:\\Anaconda\\envs\\geomatics\\lib\\site-packages\\sentinelsat\\download.py\", line 158, in _download_with_node_filter\n",
      "    if not manifest_path.exists() and self.trigger_offline_retrieval(id):\n",
      "  File \"D:\\Anaconda\\envs\\geomatics\\lib\\site-packages\\sentinelsat\\download.py\", line 504, in trigger_offline_retrieval\n",
      "    self.api._check_scihub_response(r, test_json=False)\n",
      "  File \"D:\\Anaconda\\envs\\geomatics\\lib\\site-packages\\sentinelsat\\sentinel.py\", line 1063, in _check_scihub_response\n",
      "    raise ServerError(msg, response)\n",
      "sentinelsat.exceptions.ServerError: HTTP status 504 Gateway Time-out: \n",
      "# 504 Gateway Time-out\n",
      "\n",
      "The server didn't respond in time.\n",
      "There was an error downloading S1A_IW_SLC__1SDV_20220915T091643_20220915T091710_045013_0560BF_D832\n",
      "Traceback (most recent call last):\n",
      "  File \"D:\\Anaconda\\envs\\geomatics\\lib\\site-packages\\sentinelsat\\sentinel.py\", line 1017, in _check_scihub_response\n",
      "    response.raise_for_status()\n",
      "  File \"D:\\Anaconda\\envs\\geomatics\\lib\\site-packages\\requests\\models.py\", line 1021, in raise_for_status\n",
      "    raise HTTPError(http_error_msg, response=self)\n",
      "requests.exceptions.HTTPError: 504 Server Error: Gateway Time-out for url: https://apihub.copernicus.eu/apihub/odata/v1/Products('ac2fd8ea-5d99-4543-9145-be2b180ef9de')/$value\n",
      "\n",
      "During handling of the above exception, another exception occurred:\n",
      "\n",
      "Traceback (most recent call last):\n",
      "  File \"D:\\Anaconda\\envs\\geomatics\\lib\\site-packages\\sentinelsat\\download.py\", line 700, in _download_online_retry\n",
      "    return self.download(uuid, directory, stop_event=stop_event)\n",
      "  File \"D:\\Anaconda\\envs\\geomatics\\lib\\site-packages\\sentinelsat\\download.py\", line 133, in download\n",
      "    return self._download_with_node_filter(id, directory, stop_event)\n",
      "  File \"D:\\Anaconda\\envs\\geomatics\\lib\\site-packages\\sentinelsat\\download.py\", line 158, in _download_with_node_filter\n",
      "    if not manifest_path.exists() and self.trigger_offline_retrieval(id):\n",
      "  File \"D:\\Anaconda\\envs\\geomatics\\lib\\site-packages\\sentinelsat\\download.py\", line 504, in trigger_offline_retrieval\n",
      "    self.api._check_scihub_response(r, test_json=False)\n",
      "  File \"D:\\Anaconda\\envs\\geomatics\\lib\\site-packages\\sentinelsat\\sentinel.py\", line 1063, in _check_scihub_response\n",
      "    raise ServerError(msg, response)\n",
      "sentinelsat.exceptions.ServerError: HTTP status 504 Gateway Time-out: \n",
      "# 504 Gateway Time-out\n",
      "\n",
      "The server didn't respond in time.\n",
      "There was an error downloading S1A_IW_SLC__1SDV_20220915T091733_20220915T091801_045013_0560BF_D4C8\n",
      "Traceback (most recent call last):\n",
      "  File \"D:\\Anaconda\\envs\\geomatics\\lib\\site-packages\\sentinelsat\\sentinel.py\", line 1017, in _check_scihub_response\n",
      "    response.raise_for_status()\n",
      "  File \"D:\\Anaconda\\envs\\geomatics\\lib\\site-packages\\requests\\models.py\", line 1021, in raise_for_status\n",
      "    raise HTTPError(http_error_msg, response=self)\n",
      "requests.exceptions.HTTPError: 504 Server Error: Gateway Time-out for url: https://apihub.copernicus.eu/apihub/odata/v1/Products('2a6fad69-393b-40b5-bb15-e8cd722d76cf')/$value\n",
      "\n",
      "During handling of the above exception, another exception occurred:\n",
      "\n",
      "Traceback (most recent call last):\n",
      "  File \"D:\\Anaconda\\envs\\geomatics\\lib\\site-packages\\sentinelsat\\download.py\", line 700, in _download_online_retry\n",
      "    return self.download(uuid, directory, stop_event=stop_event)\n",
      "  File \"D:\\Anaconda\\envs\\geomatics\\lib\\site-packages\\sentinelsat\\download.py\", line 133, in download\n",
      "    return self._download_with_node_filter(id, directory, stop_event)\n",
      "  File \"D:\\Anaconda\\envs\\geomatics\\lib\\site-packages\\sentinelsat\\download.py\", line 158, in _download_with_node_filter\n",
      "    if not manifest_path.exists() and self.trigger_offline_retrieval(id):\n",
      "  File \"D:\\Anaconda\\envs\\geomatics\\lib\\site-packages\\sentinelsat\\download.py\", line 504, in trigger_offline_retrieval\n",
      "    self.api._check_scihub_response(r, test_json=False)\n",
      "  File \"D:\\Anaconda\\envs\\geomatics\\lib\\site-packages\\sentinelsat\\sentinel.py\", line 1063, in _check_scihub_response\n",
      "    raise ServerError(msg, response)\n",
      "sentinelsat.exceptions.ServerError: HTTP status 504 Gateway Time-out: \n",
      "# 504 Gateway Time-out\n",
      "\n",
      "The server didn't respond in time.\n"
     ]
    },
    {
     "data": {
      "application/vnd.jupyter.widget-view+json": {
       "model_id": "4e2ff3a098eb4acea6a9a13d08048aa7",
       "version_major": 2,
       "version_minor": 0
      },
      "text/plain": [
       "Downloading s1a-iw1-slc-vh-20220915t091644-20220915t091709-045013-0560bf-001.tiff:   0%|          | 0.00/1.20G…"
      ]
     },
     "metadata": {},
     "output_type": "display_data"
    },
    {
     "name": "stderr",
     "output_type": "stream",
     "text": [
      "There was an error downloading S1A_IW_SLC__1SDV_20220915T091733_20220915T091801_045013_0560BF_D4C8\n",
      "Traceback (most recent call last):\n",
      "  File \"D:\\Anaconda\\envs\\geomatics\\lib\\site-packages\\sentinelsat\\sentinel.py\", line 1017, in _check_scihub_response\n",
      "    response.raise_for_status()\n",
      "  File \"D:\\Anaconda\\envs\\geomatics\\lib\\site-packages\\requests\\models.py\", line 1021, in raise_for_status\n",
      "    raise HTTPError(http_error_msg, response=self)\n",
      "requests.exceptions.HTTPError: 504 Server Error: Gateway Time-out for url: https://apihub.copernicus.eu/apihub/odata/v1/Products('2a6fad69-393b-40b5-bb15-e8cd722d76cf')/$value\n",
      "\n",
      "During handling of the above exception, another exception occurred:\n",
      "\n",
      "Traceback (most recent call last):\n",
      "  File \"D:\\Anaconda\\envs\\geomatics\\lib\\site-packages\\sentinelsat\\download.py\", line 700, in _download_online_retry\n",
      "    return self.download(uuid, directory, stop_event=stop_event)\n",
      "  File \"D:\\Anaconda\\envs\\geomatics\\lib\\site-packages\\sentinelsat\\download.py\", line 133, in download\n",
      "    return self._download_with_node_filter(id, directory, stop_event)\n",
      "  File \"D:\\Anaconda\\envs\\geomatics\\lib\\site-packages\\sentinelsat\\download.py\", line 158, in _download_with_node_filter\n",
      "    if not manifest_path.exists() and self.trigger_offline_retrieval(id):\n",
      "  File \"D:\\Anaconda\\envs\\geomatics\\lib\\site-packages\\sentinelsat\\download.py\", line 504, in trigger_offline_retrieval\n",
      "    self.api._check_scihub_response(r, test_json=False)\n",
      "  File \"D:\\Anaconda\\envs\\geomatics\\lib\\site-packages\\sentinelsat\\sentinel.py\", line 1063, in _check_scihub_response\n",
      "    raise ServerError(msg, response)\n",
      "sentinelsat.exceptions.ServerError: HTTP status 504 Gateway Time-out: \n",
      "# 504 Gateway Time-out\n",
      "\n",
      "The server didn't respond in time.\n",
      "There was an error downloading S1A_IW_SLC__1SDV_20220915T091733_20220915T091801_045013_0560BF_D4C8\n",
      "Traceback (most recent call last):\n",
      "  File \"D:\\Anaconda\\envs\\geomatics\\lib\\site-packages\\sentinelsat\\sentinel.py\", line 1017, in _check_scihub_response\n",
      "    response.raise_for_status()\n",
      "  File \"D:\\Anaconda\\envs\\geomatics\\lib\\site-packages\\requests\\models.py\", line 1021, in raise_for_status\n",
      "    raise HTTPError(http_error_msg, response=self)\n",
      "requests.exceptions.HTTPError: 504 Server Error: Gateway Time-out for url: https://apihub.copernicus.eu/apihub/odata/v1/Products('2a6fad69-393b-40b5-bb15-e8cd722d76cf')/$value\n",
      "\n",
      "During handling of the above exception, another exception occurred:\n",
      "\n",
      "Traceback (most recent call last):\n",
      "  File \"D:\\Anaconda\\envs\\geomatics\\lib\\site-packages\\sentinelsat\\download.py\", line 700, in _download_online_retry\n",
      "    return self.download(uuid, directory, stop_event=stop_event)\n",
      "  File \"D:\\Anaconda\\envs\\geomatics\\lib\\site-packages\\sentinelsat\\download.py\", line 133, in download\n",
      "    return self._download_with_node_filter(id, directory, stop_event)\n",
      "  File \"D:\\Anaconda\\envs\\geomatics\\lib\\site-packages\\sentinelsat\\download.py\", line 158, in _download_with_node_filter\n",
      "    if not manifest_path.exists() and self.trigger_offline_retrieval(id):\n",
      "  File \"D:\\Anaconda\\envs\\geomatics\\lib\\site-packages\\sentinelsat\\download.py\", line 504, in trigger_offline_retrieval\n",
      "    self.api._check_scihub_response(r, test_json=False)\n",
      "  File \"D:\\Anaconda\\envs\\geomatics\\lib\\site-packages\\sentinelsat\\sentinel.py\", line 1063, in _check_scihub_response\n",
      "    raise ServerError(msg, response)\n",
      "sentinelsat.exceptions.ServerError: HTTP status 504 Gateway Time-out: \n",
      "# 504 Gateway Time-out\n",
      "\n",
      "The server didn't respond in time.\n",
      "There was an error downloading S1A_IW_SLC__1SDV_20220915T091733_20220915T091801_045013_0560BF_D4C8\n",
      "Traceback (most recent call last):\n",
      "  File \"D:\\Anaconda\\envs\\geomatics\\lib\\site-packages\\sentinelsat\\sentinel.py\", line 1017, in _check_scihub_response\n",
      "    response.raise_for_status()\n",
      "  File \"D:\\Anaconda\\envs\\geomatics\\lib\\site-packages\\requests\\models.py\", line 1021, in raise_for_status\n",
      "    raise HTTPError(http_error_msg, response=self)\n",
      "requests.exceptions.HTTPError: 504 Server Error: Gateway Time-out for url: https://apihub.copernicus.eu/apihub/odata/v1/Products('2a6fad69-393b-40b5-bb15-e8cd722d76cf')/$value\n",
      "\n",
      "During handling of the above exception, another exception occurred:\n",
      "\n",
      "Traceback (most recent call last):\n",
      "  File \"D:\\Anaconda\\envs\\geomatics\\lib\\site-packages\\sentinelsat\\download.py\", line 700, in _download_online_retry\n",
      "    return self.download(uuid, directory, stop_event=stop_event)\n",
      "  File \"D:\\Anaconda\\envs\\geomatics\\lib\\site-packages\\sentinelsat\\download.py\", line 133, in download\n",
      "    return self._download_with_node_filter(id, directory, stop_event)\n",
      "  File \"D:\\Anaconda\\envs\\geomatics\\lib\\site-packages\\sentinelsat\\download.py\", line 158, in _download_with_node_filter\n",
      "    if not manifest_path.exists() and self.trigger_offline_retrieval(id):\n",
      "  File \"D:\\Anaconda\\envs\\geomatics\\lib\\site-packages\\sentinelsat\\download.py\", line 504, in trigger_offline_retrieval\n",
      "    self.api._check_scihub_response(r, test_json=False)\n",
      "  File \"D:\\Anaconda\\envs\\geomatics\\lib\\site-packages\\sentinelsat\\sentinel.py\", line 1063, in _check_scihub_response\n",
      "    raise ServerError(msg, response)\n",
      "sentinelsat.exceptions.ServerError: HTTP status 504 Gateway Time-out: \n",
      "# 504 Gateway Time-out\n",
      "\n",
      "The server didn't respond in time.\n",
      "There was an error downloading S1A_IW_SLC__1SDV_20220915T091733_20220915T091801_045013_0560BF_D4C8\n",
      "Traceback (most recent call last):\n",
      "  File \"D:\\Anaconda\\envs\\geomatics\\lib\\site-packages\\sentinelsat\\sentinel.py\", line 1017, in _check_scihub_response\n",
      "    response.raise_for_status()\n",
      "  File \"D:\\Anaconda\\envs\\geomatics\\lib\\site-packages\\requests\\models.py\", line 1021, in raise_for_status\n",
      "    raise HTTPError(http_error_msg, response=self)\n",
      "requests.exceptions.HTTPError: 504 Server Error: Gateway Time-out for url: https://apihub.copernicus.eu/apihub/odata/v1/Products('2a6fad69-393b-40b5-bb15-e8cd722d76cf')/$value\n",
      "\n",
      "During handling of the above exception, another exception occurred:\n",
      "\n",
      "Traceback (most recent call last):\n",
      "  File \"D:\\Anaconda\\envs\\geomatics\\lib\\site-packages\\sentinelsat\\download.py\", line 700, in _download_online_retry\n",
      "    return self.download(uuid, directory, stop_event=stop_event)\n",
      "  File \"D:\\Anaconda\\envs\\geomatics\\lib\\site-packages\\sentinelsat\\download.py\", line 133, in download\n",
      "    return self._download_with_node_filter(id, directory, stop_event)\n",
      "  File \"D:\\Anaconda\\envs\\geomatics\\lib\\site-packages\\sentinelsat\\download.py\", line 158, in _download_with_node_filter\n",
      "    if not manifest_path.exists() and self.trigger_offline_retrieval(id):\n",
      "  File \"D:\\Anaconda\\envs\\geomatics\\lib\\site-packages\\sentinelsat\\download.py\", line 504, in trigger_offline_retrieval\n",
      "    self.api._check_scihub_response(r, test_json=False)\n",
      "  File \"D:\\Anaconda\\envs\\geomatics\\lib\\site-packages\\sentinelsat\\sentinel.py\", line 1063, in _check_scihub_response\n",
      "    raise ServerError(msg, response)\n",
      "sentinelsat.exceptions.ServerError: HTTP status 504 Gateway Time-out: \n",
      "# 504 Gateway Time-out\n",
      "\n",
      "The server didn't respond in time.\n",
      "There was an error downloading S1A_IW_SLC__1SDV_20220915T091733_20220915T091801_045013_0560BF_D4C8\n",
      "Traceback (most recent call last):\n",
      "  File \"D:\\Anaconda\\envs\\geomatics\\lib\\site-packages\\sentinelsat\\sentinel.py\", line 1017, in _check_scihub_response\n",
      "    response.raise_for_status()\n",
      "  File \"D:\\Anaconda\\envs\\geomatics\\lib\\site-packages\\requests\\models.py\", line 1021, in raise_for_status\n",
      "    raise HTTPError(http_error_msg, response=self)\n",
      "requests.exceptions.HTTPError: 504 Server Error: Gateway Time-out for url: https://apihub.copernicus.eu/apihub/odata/v1/Products('2a6fad69-393b-40b5-bb15-e8cd722d76cf')/$value\n",
      "\n",
      "During handling of the above exception, another exception occurred:\n",
      "\n",
      "Traceback (most recent call last):\n",
      "  File \"D:\\Anaconda\\envs\\geomatics\\lib\\site-packages\\sentinelsat\\download.py\", line 700, in _download_online_retry\n",
      "    return self.download(uuid, directory, stop_event=stop_event)\n",
      "  File \"D:\\Anaconda\\envs\\geomatics\\lib\\site-packages\\sentinelsat\\download.py\", line 133, in download\n",
      "    return self._download_with_node_filter(id, directory, stop_event)\n",
      "  File \"D:\\Anaconda\\envs\\geomatics\\lib\\site-packages\\sentinelsat\\download.py\", line 158, in _download_with_node_filter\n",
      "    if not manifest_path.exists() and self.trigger_offline_retrieval(id):\n",
      "  File \"D:\\Anaconda\\envs\\geomatics\\lib\\site-packages\\sentinelsat\\download.py\", line 504, in trigger_offline_retrieval\n",
      "    self.api._check_scihub_response(r, test_json=False)\n",
      "  File \"D:\\Anaconda\\envs\\geomatics\\lib\\site-packages\\sentinelsat\\sentinel.py\", line 1063, in _check_scihub_response\n",
      "    raise ServerError(msg, response)\n",
      "sentinelsat.exceptions.ServerError: HTTP status 504 Gateway Time-out: \n",
      "# 504 Gateway Time-out\n",
      "\n",
      "The server didn't respond in time.\n",
      "There was an error downloading S1A_IW_SLC__1SDV_20220915T091733_20220915T091801_045013_0560BF_D4C8\n",
      "Traceback (most recent call last):\n",
      "  File \"D:\\Anaconda\\envs\\geomatics\\lib\\site-packages\\sentinelsat\\sentinel.py\", line 1017, in _check_scihub_response\n",
      "    response.raise_for_status()\n",
      "  File \"D:\\Anaconda\\envs\\geomatics\\lib\\site-packages\\requests\\models.py\", line 1021, in raise_for_status\n",
      "    raise HTTPError(http_error_msg, response=self)\n",
      "requests.exceptions.HTTPError: 504 Server Error: Gateway Time-out for url: https://apihub.copernicus.eu/apihub/odata/v1/Products('2a6fad69-393b-40b5-bb15-e8cd722d76cf')/$value\n",
      "\n",
      "During handling of the above exception, another exception occurred:\n",
      "\n",
      "Traceback (most recent call last):\n",
      "  File \"D:\\Anaconda\\envs\\geomatics\\lib\\site-packages\\sentinelsat\\download.py\", line 700, in _download_online_retry\n",
      "    return self.download(uuid, directory, stop_event=stop_event)\n",
      "  File \"D:\\Anaconda\\envs\\geomatics\\lib\\site-packages\\sentinelsat\\download.py\", line 133, in download\n",
      "    return self._download_with_node_filter(id, directory, stop_event)\n",
      "  File \"D:\\Anaconda\\envs\\geomatics\\lib\\site-packages\\sentinelsat\\download.py\", line 158, in _download_with_node_filter\n",
      "    if not manifest_path.exists() and self.trigger_offline_retrieval(id):\n",
      "  File \"D:\\Anaconda\\envs\\geomatics\\lib\\site-packages\\sentinelsat\\download.py\", line 504, in trigger_offline_retrieval\n",
      "    self.api._check_scihub_response(r, test_json=False)\n",
      "  File \"D:\\Anaconda\\envs\\geomatics\\lib\\site-packages\\sentinelsat\\sentinel.py\", line 1063, in _check_scihub_response\n",
      "    raise ServerError(msg, response)\n",
      "sentinelsat.exceptions.ServerError: HTTP status 504 Gateway Time-out: \n",
      "# 504 Gateway Time-out\n",
      "\n",
      "The server didn't respond in time.\n",
      "There was an error downloading S1A_IW_SLC__1SDV_20220915T091733_20220915T091801_045013_0560BF_D4C8\n",
      "Traceback (most recent call last):\n",
      "  File \"D:\\Anaconda\\envs\\geomatics\\lib\\site-packages\\sentinelsat\\sentinel.py\", line 1017, in _check_scihub_response\n",
      "    response.raise_for_status()\n",
      "  File \"D:\\Anaconda\\envs\\geomatics\\lib\\site-packages\\requests\\models.py\", line 1021, in raise_for_status\n",
      "    raise HTTPError(http_error_msg, response=self)\n",
      "requests.exceptions.HTTPError: 504 Server Error: Gateway Time-out for url: https://apihub.copernicus.eu/apihub/odata/v1/Products('2a6fad69-393b-40b5-bb15-e8cd722d76cf')/$value\n",
      "\n",
      "During handling of the above exception, another exception occurred:\n",
      "\n",
      "Traceback (most recent call last):\n",
      "  File \"D:\\Anaconda\\envs\\geomatics\\lib\\site-packages\\sentinelsat\\download.py\", line 700, in _download_online_retry\n",
      "    return self.download(uuid, directory, stop_event=stop_event)\n",
      "  File \"D:\\Anaconda\\envs\\geomatics\\lib\\site-packages\\sentinelsat\\download.py\", line 133, in download\n",
      "    return self._download_with_node_filter(id, directory, stop_event)\n",
      "  File \"D:\\Anaconda\\envs\\geomatics\\lib\\site-packages\\sentinelsat\\download.py\", line 158, in _download_with_node_filter\n",
      "    if not manifest_path.exists() and self.trigger_offline_retrieval(id):\n",
      "  File \"D:\\Anaconda\\envs\\geomatics\\lib\\site-packages\\sentinelsat\\download.py\", line 504, in trigger_offline_retrieval\n",
      "    self.api._check_scihub_response(r, test_json=False)\n",
      "  File \"D:\\Anaconda\\envs\\geomatics\\lib\\site-packages\\sentinelsat\\sentinel.py\", line 1063, in _check_scihub_response\n",
      "    raise ServerError(msg, response)\n",
      "sentinelsat.exceptions.ServerError: HTTP status 504 Gateway Time-out: \n",
      "# 504 Gateway Time-out\n",
      "\n",
      "The server didn't respond in time.\n",
      "2a6fad69-393b-40b5-bb15-e8cd722d76cf failed: Traceback (most recent call last):\n",
      "  File \"D:\\Anaconda\\envs\\geomatics\\lib\\site-packages\\sentinelsat\\sentinel.py\", line 1017, in _check_scihub_response\n",
      "    response.raise_for_status()\n",
      "  File \"D:\\Anaconda\\envs\\geomatics\\lib\\site-packages\\requests\\models.py\", line 1021, in raise_for_status\n",
      "    raise HTTPError(http_error_msg, response=self)\n",
      "requests.exceptions.HTTPError: 504 Server Error: Gateway Time-out for url: https://apihub.copernicus.eu/apihub/odata/v1/Products('2a6fad69-393b-40b5-bb15-e8cd722d76cf')/$value\n",
      "\n",
      "During handling of the above exception, another exception occurred:\n",
      "\n",
      "Traceback (most recent call last):\n",
      "  File \"D:\\Anaconda\\envs\\geomatics\\lib\\concurrent\\futures\\thread.py\", line 58, in run\n",
      "    result = self.fn(*self.args, **self.kwargs)\n",
      "  File \"D:\\Anaconda\\envs\\geomatics\\lib\\site-packages\\sentinelsat\\download.py\", line 721, in _download_online_retry\n",
      "    raise last_exception\n",
      "  File \"D:\\Anaconda\\envs\\geomatics\\lib\\site-packages\\sentinelsat\\download.py\", line 700, in _download_online_retry\n",
      "    return self.download(uuid, directory, stop_event=stop_event)\n",
      "  File \"D:\\Anaconda\\envs\\geomatics\\lib\\site-packages\\sentinelsat\\download.py\", line 133, in download\n",
      "    return self._download_with_node_filter(id, directory, stop_event)\n",
      "  File \"D:\\Anaconda\\envs\\geomatics\\lib\\site-packages\\sentinelsat\\download.py\", line 158, in _download_with_node_filter\n",
      "    if not manifest_path.exists() and self.trigger_offline_retrieval(id):\n",
      "  File \"D:\\Anaconda\\envs\\geomatics\\lib\\site-packages\\sentinelsat\\download.py\", line 504, in trigger_offline_retrieval\n",
      "    self.api._check_scihub_response(r, test_json=False)\n",
      "  File \"D:\\Anaconda\\envs\\geomatics\\lib\\site-packages\\sentinelsat\\sentinel.py\", line 1063, in _check_scihub_response\n",
      "    raise ServerError(msg, response)\n",
      "sentinelsat.exceptions.ServerError: HTTP status 504 Gateway Time-out: \n",
      "# 504 Gateway Time-out\n",
      "\n",
      "The server didn't respond in time.\n",
      "\n"
     ]
    },
    {
     "data": {
      "application/vnd.jupyter.widget-view+json": {
       "model_id": "",
       "version_major": 2,
       "version_minor": 0
      },
      "text/plain": [
       "MD5 checksumming:   0%|          | 0.00/1.20G [00:00<?, ?B/s]"
      ]
     },
     "metadata": {},
     "output_type": "display_data"
    },
    {
     "data": {
      "application/vnd.jupyter.widget-view+json": {
       "model_id": "8d5f2729c2c04fe7b644510f0fc06d6e",
       "version_major": 2,
       "version_minor": 0
      },
      "text/plain": [
       "Downloading s1a-iw2-slc-vh-20220915t091710-20220915t091735-045013-0560bf-002.tiff:   0%|          | 0.00/1.41G…"
      ]
     },
     "metadata": {},
     "output_type": "display_data"
    },
    {
     "data": {
      "application/vnd.jupyter.widget-view+json": {
       "model_id": "",
       "version_major": 2,
       "version_minor": 0
      },
      "text/plain": [
       "MD5 checksumming:   0%|          | 0.00/1.20G [00:00<?, ?B/s]"
      ]
     },
     "metadata": {},
     "output_type": "display_data"
    },
    {
     "data": {
      "application/vnd.jupyter.widget-view+json": {
       "model_id": "052d7dd0e1e046c68c5851a0e5aa7ce2",
       "version_major": 2,
       "version_minor": 0
      },
      "text/plain": [
       "Downloading s1a-iw2-slc-vh-20220915t091645-20220915t091710-045013-0560bf-002.tiff:   0%|          | 0.00/1.41G…"
      ]
     },
     "metadata": {},
     "output_type": "display_data"
    },
    {
     "data": {
      "application/vnd.jupyter.widget-view+json": {
       "model_id": "",
       "version_major": 2,
       "version_minor": 0
      },
      "text/plain": [
       "MD5 checksumming:   0%|          | 0.00/1.41G [00:00<?, ?B/s]"
      ]
     },
     "metadata": {},
     "output_type": "display_data"
    },
    {
     "data": {
      "application/vnd.jupyter.widget-view+json": {
       "model_id": "0642bc1ec4144af7927d0f2f344bd4fe",
       "version_major": 2,
       "version_minor": 0
      },
      "text/plain": [
       "Downloading s1a-iw3-slc-vh-20220915t091708-20220915t091733-045013-0560bf-003.tiff:   0%|          | 0.00/1.36G…"
      ]
     },
     "metadata": {},
     "output_type": "display_data"
    },
    {
     "data": {
      "application/vnd.jupyter.widget-view+json": {
       "model_id": "",
       "version_major": 2,
       "version_minor": 0
      },
      "text/plain": [
       "MD5 checksumming:   0%|          | 0.00/1.41G [00:00<?, ?B/s]"
      ]
     },
     "metadata": {},
     "output_type": "display_data"
    },
    {
     "data": {
      "application/vnd.jupyter.widget-view+json": {
       "model_id": "743cd0698bc248eabe92a65993037861",
       "version_major": 2,
       "version_minor": 0
      },
      "text/plain": [
       "Downloading s1a-iw3-slc-vh-20220915t091643-20220915t091708-045013-0560bf-003.tiff:   0%|          | 0.00/1.36G…"
      ]
     },
     "metadata": {},
     "output_type": "display_data"
    },
    {
     "data": {
      "application/vnd.jupyter.widget-view+json": {
       "model_id": "",
       "version_major": 2,
       "version_minor": 0
      },
      "text/plain": [
       "MD5 checksumming:   0%|          | 0.00/1.36G [00:00<?, ?B/s]"
      ]
     },
     "metadata": {},
     "output_type": "display_data"
    },
    {
     "data": {
      "application/vnd.jupyter.widget-view+json": {
       "model_id": "20902c63b0884132b283f9b57f2a1b23",
       "version_major": 2,
       "version_minor": 0
      },
      "text/plain": [
       "Downloading s1a-iw1-slc-vv-20220915t091709-20220915t091734-045013-0560bf-004.tiff:   0%|          | 0.00/1.20G…"
      ]
     },
     "metadata": {},
     "output_type": "display_data"
    },
    {
     "data": {
      "application/vnd.jupyter.widget-view+json": {
       "model_id": "",
       "version_major": 2,
       "version_minor": 0
      },
      "text/plain": [
       "MD5 checksumming:   0%|          | 0.00/1.36G [00:00<?, ?B/s]"
      ]
     },
     "metadata": {},
     "output_type": "display_data"
    },
    {
     "data": {
      "application/vnd.jupyter.widget-view+json": {
       "model_id": "939b37d71bcd4253ba78551ca2fa9e9d",
       "version_major": 2,
       "version_minor": 0
      },
      "text/plain": [
       "Downloading s1a-iw1-slc-vv-20220915t091644-20220915t091709-045013-0560bf-004.tiff:   0%|          | 0.00/1.20G…"
      ]
     },
     "metadata": {},
     "output_type": "display_data"
    },
    {
     "data": {
      "application/vnd.jupyter.widget-view+json": {
       "model_id": "",
       "version_major": 2,
       "version_minor": 0
      },
      "text/plain": [
       "MD5 checksumming:   0%|          | 0.00/1.20G [00:00<?, ?B/s]"
      ]
     },
     "metadata": {},
     "output_type": "display_data"
    },
    {
     "data": {
      "application/vnd.jupyter.widget-view+json": {
       "model_id": "3df33fc41b3d492f87f20478715a48a6",
       "version_major": 2,
       "version_minor": 0
      },
      "text/plain": [
       "Downloading s1a-iw2-slc-vv-20220915t091645-20220915t091710-045013-0560bf-005.tiff:   0%|          | 0.00/1.41G…"
      ]
     },
     "metadata": {},
     "output_type": "display_data"
    },
    {
     "data": {
      "application/vnd.jupyter.widget-view+json": {
       "model_id": "",
       "version_major": 2,
       "version_minor": 0
      },
      "text/plain": [
       "MD5 checksumming:   0%|          | 0.00/1.20G [00:00<?, ?B/s]"
      ]
     },
     "metadata": {},
     "output_type": "display_data"
    },
    {
     "data": {
      "application/vnd.jupyter.widget-view+json": {
       "model_id": "430bcbcdf38e4246ab935b9dd995b2a4",
       "version_major": 2,
       "version_minor": 0
      },
      "text/plain": [
       "Downloading s1a-iw2-slc-vv-20220915t091710-20220915t091735-045013-0560bf-005.tiff:   0%|          | 0.00/1.41G…"
      ]
     },
     "metadata": {},
     "output_type": "display_data"
    },
    {
     "data": {
      "application/vnd.jupyter.widget-view+json": {
       "model_id": "",
       "version_major": 2,
       "version_minor": 0
      },
      "text/plain": [
       "MD5 checksumming:   0%|          | 0.00/1.41G [00:00<?, ?B/s]"
      ]
     },
     "metadata": {},
     "output_type": "display_data"
    },
    {
     "data": {
      "application/vnd.jupyter.widget-view+json": {
       "model_id": "",
       "version_major": 2,
       "version_minor": 0
      },
      "text/plain": [
       "MD5 checksumming:   0%|          | 0.00/1.41G [00:00<?, ?B/s]"
      ]
     },
     "metadata": {},
     "output_type": "display_data"
    },
    {
     "data": {
      "application/vnd.jupyter.widget-view+json": {
       "model_id": "730ad09a345e4bfe91fa4489091154a8",
       "version_major": 2,
       "version_minor": 0
      },
      "text/plain": [
       "Downloading s1a-iw3-slc-vv-20220915t091643-20220915t091708-045013-0560bf-006.tiff:   0%|          | 0.00/1.36G…"
      ]
     },
     "metadata": {},
     "output_type": "display_data"
    },
    {
     "data": {
      "application/vnd.jupyter.widget-view+json": {
       "model_id": "6c126b65f4ce46e8924bc907e1ac73e2",
       "version_major": 2,
       "version_minor": 0
      },
      "text/plain": [
       "Downloading s1a-iw3-slc-vv-20220915t091708-20220915t091733-045013-0560bf-006.tiff:   0%|          | 0.00/1.36G…"
      ]
     },
     "metadata": {},
     "output_type": "display_data"
    },
    {
     "data": {
      "application/vnd.jupyter.widget-view+json": {
       "model_id": "",
       "version_major": 2,
       "version_minor": 0
      },
      "text/plain": [
       "MD5 checksumming:   0%|          | 0.00/1.36G [00:00<?, ?B/s]"
      ]
     },
     "metadata": {},
     "output_type": "display_data"
    },
    {
     "ename": "KeyboardInterrupt",
     "evalue": "",
     "output_type": "error",
     "traceback": [
      "\u001b[1;31m---------------------------------------------------------------------------\u001b[0m",
      "\u001b[1;31mKeyboardInterrupt\u001b[0m                         Traceback (most recent call last)",
      "Input \u001b[1;32mIn [21]\u001b[0m, in \u001b[0;36m<cell line: 1>\u001b[1;34m()\u001b[0m\n\u001b[1;32m----> 1\u001b[0m \u001b[43mapi\u001b[49m\u001b[38;5;241;43m.\u001b[39;49m\u001b[43mdownload_all\u001b[49m\u001b[43m(\u001b[49m\u001b[43mproducts\u001b[49m\u001b[43m,\u001b[49m\u001b[43m \u001b[49m\u001b[43mnodefilter\u001b[49m\u001b[38;5;241;43m=\u001b[39;49m\u001b[43mpath_filter\u001b[49m\u001b[43m)\u001b[49m\n",
      "File \u001b[1;32mD:\\Anaconda\\envs\\geomatics\\lib\\site-packages\\sentinelsat\\sentinel.py:715\u001b[0m, in \u001b[0;36mSentinelAPI.download_all\u001b[1;34m(self, products, directory_path, max_attempts, checksum, n_concurrent_dl, lta_retry_delay, fail_fast, nodefilter)\u001b[0m\n\u001b[0;32m    713\u001b[0m     downloader\u001b[38;5;241m.\u001b[39mlta_retry_delay \u001b[38;5;241m=\u001b[39m lta_retry_delay\n\u001b[0;32m    714\u001b[0m downloader\u001b[38;5;241m.\u001b[39mnode_filter \u001b[38;5;241m=\u001b[39m nodefilter\n\u001b[1;32m--> 715\u001b[0m statuses, exceptions, product_infos \u001b[38;5;241m=\u001b[39m \u001b[43mdownloader\u001b[49m\u001b[38;5;241;43m.\u001b[39;49m\u001b[43mdownload_all\u001b[49m\u001b[43m(\u001b[49m\u001b[43mproducts\u001b[49m\u001b[43m,\u001b[49m\u001b[43m \u001b[49m\u001b[43mdirectory_path\u001b[49m\u001b[43m)\u001b[49m\n\u001b[0;32m    717\u001b[0m \u001b[38;5;66;03m# Adapt results to the old download_all() API\u001b[39;00m\n\u001b[0;32m    718\u001b[0m downloaded_prods \u001b[38;5;241m=\u001b[39m {}\n",
      "File \u001b[1;32mD:\\Anaconda\\envs\\geomatics\\lib\\site-packages\\sentinelsat\\download.py:329\u001b[0m, in \u001b[0;36mDownloader.download_all\u001b[1;34m(self, products, directory)\u001b[0m\n\u001b[0;32m    321\u001b[0m     future \u001b[38;5;241m=\u001b[39m trigger_executor\u001b[38;5;241m.\u001b[39msubmit(\n\u001b[0;32m    322\u001b[0m         \u001b[38;5;28mself\u001b[39m\u001b[38;5;241m.\u001b[39m_trigger_and_wait,\n\u001b[0;32m    323\u001b[0m         pid,\n\u001b[0;32m    324\u001b[0m         stop_event,\n\u001b[0;32m    325\u001b[0m         statuses,\n\u001b[0;32m    326\u001b[0m     )\n\u001b[0;32m    327\u001b[0m     trigger_tasks[future] \u001b[38;5;241m=\u001b[39m pid\n\u001b[1;32m--> 329\u001b[0m \u001b[38;5;28;01mfor\u001b[39;00m task \u001b[38;5;129;01min\u001b[39;00m concurrent\u001b[38;5;241m.\u001b[39mfutures\u001b[38;5;241m.\u001b[39mas_completed(\u001b[38;5;28mlist\u001b[39m(trigger_tasks) \u001b[38;5;241m+\u001b[39m \u001b[38;5;28mlist\u001b[39m(dl_tasks)):\n\u001b[0;32m    330\u001b[0m     pid \u001b[38;5;241m=\u001b[39m trigger_tasks\u001b[38;5;241m.\u001b[39mget(task) \u001b[38;5;129;01mor\u001b[39;00m dl_tasks[task]\n\u001b[0;32m    331\u001b[0m     exception \u001b[38;5;241m=\u001b[39m exceptions\u001b[38;5;241m.\u001b[39mget(pid)\n",
      "File \u001b[1;32mD:\\Anaconda\\envs\\geomatics\\lib\\concurrent\\futures\\_base.py:245\u001b[0m, in \u001b[0;36mas_completed\u001b[1;34m(fs, timeout)\u001b[0m\n\u001b[0;32m    240\u001b[0m     \u001b[38;5;28;01mif\u001b[39;00m wait_timeout \u001b[38;5;241m<\u001b[39m \u001b[38;5;241m0\u001b[39m:\n\u001b[0;32m    241\u001b[0m         \u001b[38;5;28;01mraise\u001b[39;00m \u001b[38;5;167;01mTimeoutError\u001b[39;00m(\n\u001b[0;32m    242\u001b[0m                 \u001b[38;5;124m'\u001b[39m\u001b[38;5;132;01m%d\u001b[39;00m\u001b[38;5;124m (of \u001b[39m\u001b[38;5;132;01m%d\u001b[39;00m\u001b[38;5;124m) futures unfinished\u001b[39m\u001b[38;5;124m'\u001b[39m \u001b[38;5;241m%\u001b[39m (\n\u001b[0;32m    243\u001b[0m                 \u001b[38;5;28mlen\u001b[39m(pending), total_futures))\n\u001b[1;32m--> 245\u001b[0m \u001b[43mwaiter\u001b[49m\u001b[38;5;241;43m.\u001b[39;49m\u001b[43mevent\u001b[49m\u001b[38;5;241;43m.\u001b[39;49m\u001b[43mwait\u001b[49m\u001b[43m(\u001b[49m\u001b[43mwait_timeout\u001b[49m\u001b[43m)\u001b[49m\n\u001b[0;32m    247\u001b[0m \u001b[38;5;28;01mwith\u001b[39;00m waiter\u001b[38;5;241m.\u001b[39mlock:\n\u001b[0;32m    248\u001b[0m     finished \u001b[38;5;241m=\u001b[39m waiter\u001b[38;5;241m.\u001b[39mfinished_futures\n",
      "File \u001b[1;32mD:\\Anaconda\\envs\\geomatics\\lib\\threading.py:581\u001b[0m, in \u001b[0;36mEvent.wait\u001b[1;34m(self, timeout)\u001b[0m\n\u001b[0;32m    579\u001b[0m signaled \u001b[38;5;241m=\u001b[39m \u001b[38;5;28mself\u001b[39m\u001b[38;5;241m.\u001b[39m_flag\n\u001b[0;32m    580\u001b[0m \u001b[38;5;28;01mif\u001b[39;00m \u001b[38;5;129;01mnot\u001b[39;00m signaled:\n\u001b[1;32m--> 581\u001b[0m     signaled \u001b[38;5;241m=\u001b[39m \u001b[38;5;28;43mself\u001b[39;49m\u001b[38;5;241;43m.\u001b[39;49m\u001b[43m_cond\u001b[49m\u001b[38;5;241;43m.\u001b[39;49m\u001b[43mwait\u001b[49m\u001b[43m(\u001b[49m\u001b[43mtimeout\u001b[49m\u001b[43m)\u001b[49m\n\u001b[0;32m    582\u001b[0m \u001b[38;5;28;01mreturn\u001b[39;00m signaled\n",
      "File \u001b[1;32mD:\\Anaconda\\envs\\geomatics\\lib\\threading.py:312\u001b[0m, in \u001b[0;36mCondition.wait\u001b[1;34m(self, timeout)\u001b[0m\n\u001b[0;32m    310\u001b[0m \u001b[38;5;28;01mtry\u001b[39;00m:    \u001b[38;5;66;03m# restore state no matter what (e.g., KeyboardInterrupt)\u001b[39;00m\n\u001b[0;32m    311\u001b[0m     \u001b[38;5;28;01mif\u001b[39;00m timeout \u001b[38;5;129;01mis\u001b[39;00m \u001b[38;5;28;01mNone\u001b[39;00m:\n\u001b[1;32m--> 312\u001b[0m         \u001b[43mwaiter\u001b[49m\u001b[38;5;241;43m.\u001b[39;49m\u001b[43macquire\u001b[49m\u001b[43m(\u001b[49m\u001b[43m)\u001b[49m\n\u001b[0;32m    313\u001b[0m         gotit \u001b[38;5;241m=\u001b[39m \u001b[38;5;28;01mTrue\u001b[39;00m\n\u001b[0;32m    314\u001b[0m     \u001b[38;5;28;01melse\u001b[39;00m:\n",
      "\u001b[1;31mKeyboardInterrupt\u001b[0m: "
     ]
    }
   ],
   "source": [
    "api.download_all(products, nodefilter=path_filter)"
   ]
  },
  {
   "cell_type": "code",
   "execution_count": null,
   "id": "872957d6-e5be-40a8-ad5c-a5feb29d5c7c",
   "metadata": {},
   "outputs": [],
   "source": []
  }
 ],
 "metadata": {
  "kernelspec": {
   "display_name": "Python 3 (ipykernel)",
   "language": "python",
   "name": "python3"
  },
  "language_info": {
   "codemirror_mode": {
    "name": "ipython",
    "version": 3
   },
   "file_extension": ".py",
   "mimetype": "text/x-python",
   "name": "python",
   "nbconvert_exporter": "python",
   "pygments_lexer": "ipython3",
   "version": "3.9.13"
  }
 },
 "nbformat": 4,
 "nbformat_minor": 5
}
