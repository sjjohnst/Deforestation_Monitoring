{
 "cells": [
  {
   "cell_type": "code",
   "execution_count": 5,
   "id": "c5da294e-557e-445c-af99-1d5069c13882",
   "metadata": {},
   "outputs": [],
   "source": [
    "import descarteslabs as dl\n",
    "import descarteslabs.workflows as wf\n",
    "\n",
    "import shapely.geometry as sg\n",
    "# from ipyleaflet import GeoJSON\n",
    "import IPython\n",
    "import matplotlib.pyplot as plt\n",
    "import datetime"
   ]
  },
  {
   "cell_type": "code",
   "execution_count": 13,
   "id": "c535011b-6dbd-4fcc-81b9-11116a460678",
   "metadata": {},
   "outputs": [],
   "source": [
    "aoi = {\n",
    "        \"type\": \"Polygon\",\n",
    "        \"coordinates\": [\n",
    "          [\n",
    "            [\n",
    "              -58.88671875,\n",
    "              -9.622414142924805\n",
    "            ],\n",
    "            [\n",
    "              -53.96484375,\n",
    "              -9.622414142924805\n",
    "            ],\n",
    "            [\n",
    "              -53.96484375,\n",
    "              -6.839169626342808\n",
    "            ],\n",
    "            [\n",
    "              -58.88671875,\n",
    "              -6.839169626342808\n",
    "            ],\n",
    "            [\n",
    "              -58.88671875,\n",
    "              -9.622414142924805\n",
    "            ]\n",
    "          ]\n",
    "        ]\n",
    "}"
   ]
  },
  {
   "cell_type": "code",
   "execution_count": 28,
   "id": "061b1a10-e244-478a-9e19-7ae597eb68c2",
   "metadata": {},
   "outputs": [
    {
     "ename": "TypeError",
     "evalue": "search() missing 1 required positional argument: 'products'",
     "output_type": "error",
     "traceback": [
      "\u001b[1;31m---------------------------------------------------------------------------\u001b[0m",
      "\u001b[1;31mTypeError\u001b[0m                                 Traceback (most recent call last)",
      "Input \u001b[1;32mIn [28]\u001b[0m, in \u001b[0;36m<cell line: 1>\u001b[1;34m()\u001b[0m\n\u001b[1;32m----> 1\u001b[0m fc \u001b[38;5;241m=\u001b[39m \u001b[43mdl\u001b[49m\u001b[38;5;241;43m.\u001b[39;49m\u001b[43mscenes\u001b[49m\u001b[38;5;241;43m.\u001b[39;49m\u001b[43msearch\u001b[49m\u001b[43m(\u001b[49m\u001b[43maoi\u001b[49m\u001b[38;5;241;43m=\u001b[39;49m\u001b[43maoi\u001b[49m\u001b[43m,\u001b[49m\u001b[43m \u001b[49m\u001b[43mlimit\u001b[49m\u001b[38;5;241;43m=\u001b[39;49m\u001b[38;5;241;43m100\u001b[39;49m\u001b[43m)\u001b[49m\n",
      "\u001b[1;31mTypeError\u001b[0m: search() missing 1 required positional argument: 'products'"
     ]
    }
   ],
   "source": [
    "fc = dl.scenes.search(aoi=aoi, limit=100)"
   ]
  },
  {
   "cell_type": "code",
   "execution_count": 27,
   "id": "79a96aea-156b-495e-adb1-899b5fae6bb7",
   "metadata": {},
   "outputs": [
    {
     "data": {
      "text/plain": [
       "(SceneCollection of 0 scenes,\n",
       " AOI(geometry=<shapely.geom...001BCD90C4E80>,\n",
       "     resolution=None,\n",
       "     crs=None,\n",
       "     align_pixels=True,\n",
       "     bounds=(-58.88671875, -9.622414142924805, -53.96484375, -6.839169626342808),\n",
       "     bounds_crs='EPSG:4326',\n",
       "     shape=None,\n",
       "     all_touched=False))"
      ]
     },
     "execution_count": 27,
     "metadata": {},
     "output_type": "execute_result"
    }
   ],
   "source": [
    "fc"
   ]
  },
  {
   "cell_type": "code",
   "execution_count": null,
   "id": "218e7c35-9b5b-4e5f-a933-7e3368905906",
   "metadata": {},
   "outputs": [],
   "source": []
  }
 ],
 "metadata": {
  "kernelspec": {
   "display_name": "Python 3 (ipykernel)",
   "language": "python",
   "name": "python3"
  },
  "language_info": {
   "codemirror_mode": {
    "name": "ipython",
    "version": 3
   },
   "file_extension": ".py",
   "mimetype": "text/x-python",
   "name": "python",
   "nbconvert_exporter": "python",
   "pygments_lexer": "ipython3",
   "version": "3.9.13"
  }
 },
 "nbformat": 4,
 "nbformat_minor": 5
}
